{
 "cells": [
  {
   "cell_type": "code",
   "execution_count": 2,
   "id": "0e48188a",
   "metadata": {},
   "outputs": [],
   "source": [
    "import numpy as np\n",
    "from scipy import stats"
   ]
  },
  {
   "cell_type": "markdown",
   "id": "bb3c9524",
   "metadata": {},
   "source": [
    "# Aims\n",
    "\n",
    "Study the effect of a 1/2 Waveplate."
   ]
  },
  {
   "cell_type": "markdown",
   "id": "472575fe",
   "metadata": {},
   "source": [
    "# Experimental method"
   ]
  },
  {
   "cell_type": "markdown",
   "id": "d837166c",
   "metadata": {},
   "source": [
    "## Experimental set-up\n",
    "\n",
    "1/2 WP IS MADE FOR THIS LASER! WOULDN'T WORK OTHERWISE!\n",
    "\n",
    "We use the same apparatus, adding the half waveplate (1/2 WP) between the polariser and the analyser, such that we have linearly polarised light incident on the 1/2 WP, and we can study the SOP which comes out of the 1/2 WP by rotating the analyser.\n",
    "\n",
    "We first want to align the 1/2 WP so that the transmission axes of the 3 components are aligned, which we did by finding the maximum transmission when the analyser and the polariser are both at 0&deg;, and changing the scale of the 1/2 WP so that this corresponds to 0&deg; for the analyser too. This is different from the method used previously (where we used the minimum transmission to set up), because the minimum transmission is 45&deg; for the 1/2 WP, which falls between graduations, making the calibration less precise. I'll perhaps find a better method later on."
   ]
  },
  {
   "cell_type": "markdown",
   "id": "483c33f9",
   "metadata": {},
   "source": [
    "## Measurements\n",
    "\n",
    "The Background was 5 counts for this part.\n",
    "\n",
    "We first want to find the two transmission axes of the 1/2 WP, so we fix the polariser and the analyser ar 0&deg;, and rotate the 1/2 WP to find the minimum and maximum transmission angles.\n",
    "\n",
    "**max transmission** at 0&deg; (914 counts), 90&deg; (902 counts), 180&deg; (906 counts), 270&deg; (916 counts)\n",
    "\n",
    "**min transmission** at 45&deg; (4 counts), 135&deg; (5 counts), 225&deg; (5 counts), 315&deg; (4 counts).\n",
    "\n",
    "These were not background subtracted.\n",
    "\n",
    "We deduce that the two transmission axes are at 90&deg; from each other. Now if we average the power out in the first axis (0 and 180&deg), and also calculate the standard error on the mean using the scipy function `scipy.stats.sem`, and do the same for the second axis, we find"
   ]
  },
  {
   "cell_type": "code",
   "execution_count": 3,
   "id": "b9a9012a",
   "metadata": {},
   "outputs": [
    {
     "name": "stdout",
     "output_type": "stream",
     "text": [
      "the average power output in the first axis is 905 pm 4 counts\n",
      "the average power output in the second axis is 904 pm 7 counts\n"
     ]
    }
   ],
   "source": [
    "#calculating the power averages for each axes\n",
    "one_av  = np.average([914-5, 906-5]) #first axis, background subtracted\n",
    "two_av  = np.average([902-5, 916-5]) #second axis, background subtracted\n",
    "\n",
    "#calculating the standard error on the mean for these\n",
    "one_ave = stats.sem([914-5, 906-5])  #first axis\n",
    "two_ave = stats.sem([902-5, 916-5])  #second axis\n",
    "\n",
    "print('the average power output in the first axis is {0:.0f} pm {1:.0f} counts'.format(one_av, one_ave))\n",
    "print('the average power output in the second axis is {0:.0f} pm {1:.0f} counts'.format(two_av, two_ave))"
   ]
  },
  {
   "cell_type": "markdown",
   "id": "32aab272",
   "metadata": {},
   "source": [
    "Clearly here, the ratio between the two maximum output powers is one, especially when we take into account the errors. This means the two axes transmit the same amout of light. OTHER CONCLUSIONS???"
   ]
  },
  {
   "cell_type": "markdown",
   "id": "83ce5b67",
   "metadata": {},
   "source": [
    "Now, to find the effect of the 1/2 WP on the initial SOP, we find the minimum and maximum transmissions for a range of 1/2 WP angles by rotating the analyser around 360&deg;.\n",
    "\n",
    "Note these are not background subtracted.\n",
    "\n",
    "1/2 WP angle (&deg;) | analyser angles for max transmission (&deg;) | max power in the same order (counts) | analyser angles for min transmission (&deg;) | min power in the same order (counts)\n",
    ":-:|:---------:|:--------:|:--------:|:-----:\n",
    "0  | 0,   180  | 915, 914 | 90,  270 | 5, 5\n",
    "10 | 20,  200  | 914, 914 | 110, 290 | 6, 5\n",
    "30 | 60,  240  | 914, 913 | 150, 330 | 4, 5\n",
    "45 | 90,  270  | 910, 916 | 0,   180 | 5, 6\n",
    "60 | 120, 300  | 905, 912 | 30,  210 | 5, 6\n",
    "80 | 160, 340  | 904, 912 | 70,  250 | 5, 6\n",
    "90 | 0,   180  | 910, 904 | 90,  270 | 5, 7"
   ]
  },
  {
   "cell_type": "markdown",
   "id": "ed38ff8b",
   "metadata": {},
   "source": [
    "The angle of the analyser when the transmission is maximal is the angle of the SOP incident on the analyser (which is the whole point of the analyser). As the SOP incident to the 1/2 WP is at 0&deg;, we conclude that the 1/2 WP must make the polarisation rotate by twice its angle (ie the angle between the first transmission axis and the SOP). For example, for a 10 &deg; angle of the 1/2 WP, we get a final SOP of 20 &deg;. Further, from the 1st and last line of the table (1/2 WP angle of 0 and 90 &deg;), we see that, as the two transmission axes have the same power output, we get the same results.\n",
    "\n",
    "\n",
    "NOTE that the power output is lower at max transmission because of the absorption of the WP + COMMENT ON FLUCTUATIONS\n",
    "\n",
    "\n",
    "Finally, we take measurements for the power output of a range of 1/2 WP angle, setting analyser and polariser at 0&deg; to study the 1/2 WP's relation to Malus' law.\n",
    "\n",
    "These are also not background subtracted.\n",
    "\n",
    "1/2 WP angle (&deg;) | output power 1 | output power 2\n",
    ":--:|:---:|:---:\n",
    "0   | 919 | 918\n",
    "20  | 533 | 530\n",
    "45  | 6   | 6\n",
    "60  | 236 | 241\n",
    "80  | 804 | 806\n",
    "90  | 911 | 906\n",
    "100 | 795 | 793\n",
    "120 | 211 | 216\n",
    "135 | 7   | 6\n",
    "140 | 40  | 44\n",
    "160 | 566 | 561\n",
    "180 | 911 | 911\n",
    "\n",
    "COMMENT!!!!!!!\n",
    "\n",
    "SHOULD FIND MALUS LAW DEPENDENT ON 2THETA???\n",
    "ADD SMALL DISCUSSION\n",
    "ADD DATA ANALYSIS, PLOT FOR THIS PART"
   ]
  },
  {
   "cell_type": "markdown",
   "id": "f6aae77d",
   "metadata": {},
   "source": [
    "# Data analysis"
   ]
  },
  {
   "cell_type": "markdown",
   "id": "1771df62",
   "metadata": {},
   "source": [
    "# Results"
   ]
  },
  {
   "cell_type": "code",
   "execution_count": null,
   "id": "b8b17089",
   "metadata": {},
   "outputs": [],
   "source": []
  },
  {
   "cell_type": "code",
   "execution_count": null,
   "id": "bdc4e26a",
   "metadata": {},
   "outputs": [],
   "source": []
  },
  {
   "cell_type": "code",
   "execution_count": null,
   "id": "ee851135",
   "metadata": {},
   "outputs": [],
   "source": []
  },
  {
   "cell_type": "code",
   "execution_count": null,
   "id": "ae233d29",
   "metadata": {},
   "outputs": [],
   "source": []
  },
  {
   "cell_type": "code",
   "execution_count": null,
   "id": "d8399bee",
   "metadata": {},
   "outputs": [],
   "source": []
  },
  {
   "cell_type": "code",
   "execution_count": null,
   "id": "67ff75f5",
   "metadata": {},
   "outputs": [],
   "source": []
  },
  {
   "cell_type": "code",
   "execution_count": null,
   "id": "d528fdf5",
   "metadata": {},
   "outputs": [],
   "source": []
  },
  {
   "cell_type": "code",
   "execution_count": null,
   "id": "841dcc1b",
   "metadata": {},
   "outputs": [],
   "source": []
  }
 ],
 "metadata": {
  "kernelspec": {
   "display_name": "Default",
   "language": "python",
   "name": "python3"
  },
  "language_info": {
   "codemirror_mode": {
    "name": "ipython",
    "version": 3
   },
   "file_extension": ".py",
   "mimetype": "text/x-python",
   "name": "python",
   "nbconvert_exporter": "python",
   "pygments_lexer": "ipython3",
   "version": "3.8.8"
  }
 },
 "nbformat": 4,
 "nbformat_minor": 5
}
