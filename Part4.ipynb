{
 "cells": [
  {
   "cell_type": "code",
   "execution_count": 3,
   "id": "da6b2de4",
   "metadata": {},
   "outputs": [],
   "source": [
    "import numpy as np\n",
    "from scipy import stats"
   ]
  },
  {
   "cell_type": "markdown",
   "id": "7e19a4be",
   "metadata": {},
   "source": [
    "# Objective\n",
    "\n",
    "In this part, we want to investigate the effects of birefringence, ie when the SOP is affected differently depending on its path. The first two subsections will discuss how these characteristics can be determined by Stokes' parameters, while the last part will discuss strain birefringence."
   ]
  },
  {
   "cell_type": "markdown",
   "id": "1ae87d0b",
   "metadata": {},
   "source": [
    "# Introduction to Stokes' Parameters"
   ]
  },
  {
   "cell_type": "markdown",
   "id": "7a86cb06",
   "metadata": {},
   "source": [
    "## Objective\n",
    "\n",
    "Here, we want to verify the results we get using Stoke's parameters using the know known 1/4 WP."
   ]
  },
  {
   "cell_type": "markdown",
   "id": "90281a99",
   "metadata": {},
   "source": [
    "## Experimental Method"
   ]
  },
  {
   "cell_type": "markdown",
   "id": "30c84fee",
   "metadata": {},
   "source": [
    "### Experimental set-up"
   ]
  },
  {
   "cell_type": "markdown",
   "id": "82c9c7f7",
   "metadata": {},
   "source": [
    "We want to study the effect of a 1/4 WP on an incoming SOP. To do this, we want to calculate Stokes' parameters associated with the outgoing beam using the power outputs $P(0,0)$, $P(0,0)$, $P(90,0)$, $P(45,0)$, $P(-45,0)$, $P(-45,-90)$ where $\\psi$ in $P(\\psi, \\epsilon)$ is the angle of the analyser, and $\\epsilon$ is the phase shift of the $E_y$ coponent of the SOP after leaving the 1/4 WP.\n",
    "\n",
    "For $\\epsilon = 0$: we need the polarise, the 1/2 WP to set the initial angle of the SOP, the 1/4 WP under study and the analyser.\n",
    "\n",
    "For $\\epsilon = -90^ \\circ$, we have to add another 1/4 WP with its fast axis aligned with the x-axis, which comes back to the properties of the 1/4 WP."
   ]
  },
  {
   "cell_type": "markdown",
   "id": "92cd5a1f",
   "metadata": {},
   "source": [
    "### Measurements\n",
    "\n",
    "Had background of 2\n",
    "\n",
    "We choose SOPs of -45&deg;, 45&deg;, -60&deg; and 20&deg; to the **x-axis** (see later for interprentation with regards to angle to 1/4 WP) and get:\n",
    "\n",
    "To set the -45 and 45 &deg; SOP, I use the same method as in paragraph 4. I'll get the best precision\n",
    "- Creation of left circularly polarised light for -45 deg angle: best I could do was 389 to 405 power output\n",
    "- Creation of right circularly polarised light for 45 deg angle: best I could do was 388 to 411 power output\n",
    "\n",
    "We then get, with the angle being up from the x-axis.\n",
    "\n",
    "**Table 1**: P($\\psi$, $\\epsilon$) for 1/4 WP for different polarisations with respect to x-axis\n",
    "\n",
    "P($\\psi$, $\\epsilon$) | output for 45&deg; | output for -45&deg; | output for 20&deg; | output for -60&deg;\n",
    ":--------:|:-------------:|:-------------:|:-------------:|:--------------:\n",
    "P(0,0)    | 397, 402, 402 | 399, 400, 400 | 724, 725, 726 | 198, 204, 208\n",
    "P(90,0)   | 397, 403, 403 | 399, 399, 399 | 97, 99, 100   | 599, 593, 591\n",
    "P(45,0)   | 405, 415, 416 | 390, 390, 390 | 423, 420, 420 | 385, 386, 386\n",
    "P(-45,0)  | 391, 393, 394 | 412, 412, 413 | 393, 396, 396 | 416, 416, 416\n",
    "P(45,-90) | 3, 2, 2       | 770, 771, 771 | 150, 150, 149 | 720, 722, 727\n",
    "P(-45,-90)| 766, 771, 768 | 0, 2, 2       | 630, 627, 628 | 58, 53, 51\n",
    "\n",
    "\n",
    "There are three values because I made multiple measurements to reduce errors."
   ]
  },
  {
   "cell_type": "markdown",
   "id": "cfdf7f16",
   "metadata": {},
   "source": [
    "## Data analysis\n",
    "\n",
    "We first want to calculate Stokes' parameters, ie equations (9)-(12) in the lab script\n",
    "\n",
    "$$\\begin{align}\n",
    "S_0 &= P(0,0) + P(90,0) \\\\\n",
    "S_1 &= P(0,0) - P(90,0) \\\\\n",
    "S_2 &= P(45,0) - P(-45,0) \\\\\n",
    "S_3 &= P(45,-90) - P(-45,-90) \\\\\n",
    "\\end{align}$$\n",
    "\n",
    "To test our code, we chose the 1st measurements for 45&deg; in Table 1."
   ]
  },
  {
   "cell_type": "code",
   "execution_count": 4,
   "id": "c30b79ae",
   "metadata": {},
   "outputs": [],
   "source": [
    "#calculate Stoke's parameters, where the values in brackets are (measurement - background)\n",
    "S0 = (397-2) + (397-2)\n",
    "S1 = (397-2) - (397-2)\n",
    "S2 = (405-2) - (391-2)\n",
    "S3 = (3-2)   - (766-2)"
   ]
  },
  {
   "cell_type": "markdown",
   "id": "e82da9e6",
   "metadata": {},
   "source": [
    "Now we want to normalise these results by dividing by $S_0$ to get the corresponding normalised values $s_0, s_1, s_2$ and $s_3$ such that $s_0 = 1$. This will mean the Poincaré sphere has a radius 1 (every point on the surface of the sphere represent a unique SOP, and is therefore a useful geometric visualisation, see figure 12 in the lab script)."
   ]
  },
  {
   "cell_type": "code",
   "execution_count": 7,
   "id": "75494b80",
   "metadata": {},
   "outputs": [
    {
     "name": "stdout",
     "output_type": "stream",
     "text": [
      "s0 = 1, s1 = 0, s2 = 0.018 and s3 = -0.97\n"
     ]
    }
   ],
   "source": [
    "s0, s1, s2, s3 = [S0, S1, S2, S3]*np.ones_like(4)*(1/S0) #divide array of Stokes parameters by S0 to normalise\n",
    "\n",
    "print('s0 = {0:.2g}, s1 = {1:.2g}, s2 = {2:.2g} and s3 = {3:.2g}'.format(s0, s1, s2, s3))"
   ]
  },
  {
   "cell_type": "markdown",
   "id": "56b49a68",
   "metadata": {},
   "source": [
    "For a 45&deg; angle, I should have found $s_0 = 1 \\approx s_3$ and $s_1 \\approx s_2 \\approx 0$, which would be right circularly polarised light. However, here $s_0 = 1 \\approx - s_3$ and $s_1 \\approx s_2 \\approx 0$, which are the expected values for left circularly polarised light. This is because the angle of the SOP with respect to the transmission axis of the 1/4 WP was in fact **-45&deg;**. This is easily seen visually, but I don't have time to draw a diagram. This also means we have to take the opposites of all the angles in table 1.\n",
    "\n",
    "This also means, as the SOP is at the south pole of the poincare sphere, that $\\delta = -90^\\circ$ and $\\chi = 45^\\circ$. The angle $\\psi$ is a bit more complicated to predict, as it should be undefined for perfect values of $s_1$ and $s_2$ (=0), so we'll see. As this should be circularly polarised light, we should also find $a = b$.\n",
    "\n",
    "From the Poincare sphere in figure 12, we see that\n",
    "$$\\tan(2\\psi) = s_2/s_1$$\n",
    "\n",
    "and\n",
    "\n",
    "$$\\sin(2\\chi) = s_3/s_0$$\n",
    "\n",
    "We then need to take the inverse functions and divide by two to find $\\psi$ and $\\chi$.\n",
    "\n",
    "We also know that\n",
    "\n",
    "$$\\tan(\\delta) = s_3/s_2$$\n",
    "\n",
    "which was derived in the lab script.\n",
    "\n",
    "For the tan function, we need to use the `np.arctan2()` to make sure our angle is in the right quadrant."
   ]
  },
  {
   "cell_type": "code",
   "execution_count": 8,
   "id": "bfdc3b0e",
   "metadata": {},
   "outputs": [
    {
     "name": "stdout",
     "output_type": "stream",
     "text": [
      "We then have psi = 45 deg, chi = -37 deg and delta = -89 deg\n"
     ]
    }
   ],
   "source": [
    "psi   = np.arctan2(s2, s1)/2\n",
    "chi   = np.arcsin(s3/s0) /2\n",
    "delta = np.arctan2(s3, s2)\n",
    "\n",
    "print('We then have psi = {0:.2g} deg, chi = {1:.2g} deg and delta = {2:.2g} deg'.format(psi*180/np.pi, chi*180/np.pi, delta*180/np.pi)) #converting to degrees"
   ]
  },
  {
   "cell_type": "markdown",
   "id": "4754523e",
   "metadata": {},
   "source": [
    "$\\delta$ is very close to what we expected (1% difference). $\\chi$ is further away than what was expected (by 17 %), which will mean the value for b/a will also be. There is a big error here because the gradient of the $\\arcsin(x)$ function is very steep at 1, and so it is very sensitive to small deviations (the difference between the expected value of -1 for $s_3/s_0$ and the measured value of -0.97 is only 3%). $\\psi$ is equal to 45 &deg; here because $s_1 = 0$ exactly.\n",
    "\n",
    "Further, from equation (7) in the lab script,\n",
    "\n",
    "$$E^2_{0x} + E^2_{0y} = a^2 + b^2$$\n",
    "\n",
    "and $\\chi$ is defined by\n",
    "\n",
    "$$\\tan(\\chi) = b/a$$\n",
    "\n",
    "As $E^2_{0x} + E^2_{0y} = 2s_0$ (using normalised values) (eq 13), we finally have\n",
    "\n",
    "$$\\begin{align}\n",
    "a &= \\sqrt{\\frac{2s_0}{1 + \\tan^2(\\chi)}} \\\\\n",
    "b &= a\\tan(\\chi)\n",
    "\\end{align}$$\n",
    "\n",
    "We can replace $s_0$ by 1, as it is defined like that by the normalisation. It doesn't really matter that a and b are not in real count values because what we're really interested in is their ratio."
   ]
  },
  {
   "cell_type": "code",
   "execution_count": 9,
   "id": "b9eb5a2c",
   "metadata": {},
   "outputs": [
    {
     "name": "stdout",
     "output_type": "stream",
     "text": [
      "We then have that a = 1.1 and b = 0.86, so b/a = 0.77\n"
     ]
    }
   ],
   "source": [
    "a = np.sqrt(abs((2*1)/(1+(np.tan(chi))**2)))\n",
    "b = abs(a*np.tan(chi))\n",
    "\n",
    "print('We then have that a = {0:.2g} and b = {1:.2g}, so b/a = {2:.2g}'.format(a,b, b/a))"
   ]
  },
  {
   "cell_type": "markdown",
   "id": "49dc0f53",
   "metadata": {},
   "source": [
    "This is quite far from what was expected, but logical, as $\\chi$, the only angle on which a and b are dependent, has the most error.\n",
    "\n",
    "We now want to do the same thing for all the values found for this first angle (the first line in table 1), and average the values we find.\n",
    "\n",
    "To avoid coppying and pasting for each measurement set, we can first define a series of functions to calculate Stokes' parameters, the angles on the Poincare sphere and the axes of the SOP:"
   ]
  },
  {
   "cell_type": "code",
   "execution_count": 10,
   "id": "b4a6438b",
   "metadata": {},
   "outputs": [],
   "source": [
    "def Stokes_parameters(P0_0, P90_0, P45_0, Pm45_0, P45_m90, Pm45_m90):\n",
    "    \"Inputs are powers needed to calculate Stokes parameters, output is Stokes parameters\"\n",
    "         #P0_0 is P(0,0), P90_0 is P(90, 0), P45_0 is P(45, 0), Pm45_0 is P(-45, 0), P45_m90 is P(45, -90) and Pm45_m90 is P(-45, -90)\n",
    "    S0 = P0_0    + P90_0\n",
    "    S1 = P0_0    - P90_0\n",
    "    S2 = P45_0   - Pm45_0\n",
    "    S3 = P45_m90 - Pm45_m90\n",
    "    return(S0, S1, S2, S3)\n",
    "\n",
    "def angles_from_stokes(S0, S1, S2, S3):\n",
    "    \"normalises stokes parameters and calculates angles psi and chi on the Poincare sphere, and angle delta\"\n",
    "    \n",
    "    #normalising stokes parameters\n",
    "    s0, s1, s2, s3 = [S0, S1, S2, S3]*np.ones_like(4)*(1/S0)\n",
    "    \n",
    "    #angle calculation\n",
    "    psi   = np.arctan2(s2, s1)/2\n",
    "    chi   = np.arcsin(s3/s0) /2\n",
    "    delta = np.arctan2(s3, s2)\n",
    "    \n",
    "    return(psi, chi, delta)\n",
    "\n",
    "def SOP_axes(chi):\n",
    "    \"calculates the semi-major and semi-minor axes, a and b, of the SOP from angle chi on the Poincare sphere\"\n",
    "     #chi is in RADIANS\n",
    "    a = np.sqrt(abs((2*1)/(1+(np.tan(chi))**2))) #as s0 = 1\n",
    "    b = abs(a*np.tan(chi))\n",
    "    return(a, b)"
   ]
  },
  {
   "cell_type": "markdown",
   "id": "7aa102bd",
   "metadata": {},
   "source": [
    "We can then calculate $\\delta$, $\\phi$, $\\chi$, $a$ and $b$ for our 45&deg; initial SOP (-45&deg; incidence to 1/4 WP) by looping over our set of measurements, using the above definitions. We can then take the average and calculate the standard error on the mean.\n",
    "\n",
    "The lab script also asked for $a/b$ and $E_x/E_y$. The latter will be the square root of $P(0, 0)/P(90, 0)$.\n",
    "\n",
    "The error on $a/b$ is easily calculated by error propagation:\n",
    "\n",
    "$$\\sigma(b/a) = \\frac{b}{a}\\sqrt{\\left(\\frac{\\sigma(a)}{a} \\right)^2 + \\left(\\frac{\\sigma(b)}{b} \\right)^2}$$\n",
    "\n",
    "The error on $E_x/E_y$ is a bit more complicated, but still doable:\n",
    "\n",
    "$$\\sigma(E_x/E_y) = \\frac{1}{2} \\left(\\frac{E_x}{E_y}\\right)^{-1/2} \\sigma(P(0,0)/P(90,0))$$\n",
    "\n",
    "as $E_x/E_y = [P(0,0)/P(90,0)]^{1/2}$.\n",
    "\n",
    "The errors $\\sigma(a)$, $\\sigma(b)$ can $\\sigma(P(0,0)/P(90,0))$ be calculated by taking the standard error on the mean for each of these values."
   ]
  },
  {
   "cell_type": "code",
   "execution_count": 11,
   "id": "e9bf43cf",
   "metadata": {},
   "outputs": [
    {
     "name": "stdout",
     "output_type": "stream",
     "text": [
      "We have that the array values are: S0 = [790. 801. 801.], S1 = [ 0. -1. -1.], S2 = [14. 22. 22.], S3 = [-763. -769. -766.]\n",
      "We have that the array values are: psi = [0.78539816 0.8081098  0.8081098 ], chi = [-0.65429956 -0.64359031 -0.63704494], delta = [-1.55244976 -1.54219555 -1.54208359] rad\n",
      "We have that the array values are: a = [1.12214228 1.13129516 1.13682547], b = [0.86069548 0.84862905 0.84120619]\n",
      "averaging these values, we then get that:\n",
      "psi = 45.868 pm 0.008 deg\n",
      "chi = -36.955 pm 0.005 deg\n",
      "delta = -88.555 pm 0.003 deg\n",
      "a = 1.130 pm 0.004\n",
      "b = 0.850 pm 0.006\n",
      "\n",
      "This means b/a = 0.752 pm 0.006\n",
      "or calculating with the value of chi\n",
      "b/a = tan(chi) = 0.752\n",
      "\n",
      "We also have Ex/Ey = 0.9992 pm 0.0004\n"
     ]
    }
   ],
   "source": [
    "background = 2\n",
    "\n",
    "#load data for 45 deg angle\n",
    "P45 = np.loadtxt('measurements 5.2.1 - 45 deg.tsv', skiprows = 3, usecols = (1,2,3))\n",
    "\n",
    "#subtract background\n",
    "P45b = P45 - background\n",
    "\n",
    "#Stokes parameters for 45 deg angle\n",
    "S0, S1, S2, S3 = Stokes_parameters(P45b[0], P45b[1], P45b[2], P45b[3], P45b[4], P45b[5])\n",
    "\n",
    "print('We have that the array values are: S0 = {0}, S1 = {1}, S2 = {2}, S3 = {3}'.format(S0, S1, S2, S3))\n",
    "\n",
    "#calculate angles\n",
    "psi, chi, delta = angles_from_stokes(S0, S1, S2, S3)\n",
    "\n",
    "print('We have that the array values are: psi = {0}, chi = {1}, delta = {2} rad'.format(psi, chi, delta))\n",
    "\n",
    "#calculate semi-major and semi-minor axes\n",
    "a, b = SOP_axes(chi)\n",
    "\n",
    "print('We have that the array values are: a = {0}, b = {1}'.format(a, b))\n",
    "\n",
    "#calculating averages and coverting angles in degrees\n",
    "\n",
    "psi_av   = np.average(psi)*(180/np.pi)\n",
    "chi_av   = np.average(chi)*(180/np.pi)\n",
    "delta_av = np.average(delta)*(180/np.pi)\n",
    "a_av     = np.average(a)\n",
    "b_av     = np.average(b)\n",
    "\n",
    "#corresponding standard errors\n",
    "\n",
    "psi_e   = stats.sem(psi)\n",
    "chi_e   = stats.sem(chi)\n",
    "delta_e = stats.sem(delta)\n",
    "a_e     = stats.sem(a)\n",
    "b_e     = stats.sem(b)\n",
    "\n",
    "print('averaging these values, we then get that:')\n",
    "print('psi = {0:.3f} pm {1:.3f} deg'.format(psi_av, psi_e))\n",
    "print('chi = {0:.3f} pm {1:.3f} deg'.format(chi_av, chi_e))\n",
    "print('delta = {0:.3f} pm {1:.3f} deg'.format(delta_av, delta_e))\n",
    "print('a = {0:.3f} pm {1:.3f}'.format(a_av, a_e))\n",
    "print('b = {0:.3f} pm {1:.3f}'.format(b_av, b_e))\n",
    "\n",
    "\n",
    "#also wanted b/a\n",
    "\n",
    "b_a  = b_av/a_av\n",
    "\n",
    "#error from error propagation will be\n",
    "\n",
    "b_ae = b_a * np.sqrt((a_e/a_av)**2+(b_e/b_av)**2)\n",
    "\n",
    "print()\n",
    "print('This means b/a = {0:.3f} pm {1:.3f}'.format(b_a, b_ae))\n",
    "print('or calculating with the value of chi')\n",
    "print('b/a = tan(chi) = {0:.3f}'.format(abs(np.tan((chi_av*np.pi/180)))))\n",
    "\n",
    "#and finally want E_x/E_y\n",
    "\n",
    "Pxy_av = np.average(P45b[0]/P45b[1])    #first calculate the average power output between x and y axis\n",
    "Pxy_e  = stats.sem(P45b[0]/P45b[1])     #calculate error on the average\n",
    "\n",
    "E_xy   = np.sqrt(Pxy_av)              #calculate electric field component\n",
    "E_xye  = 0.5*E_xy**(-0.5)*Pxy_e       #calculate error by error propagation\n",
    "\n",
    "print()\n",
    "print('We also have Ex/Ey = {0:.4f} pm {1:.4f}'.format(E_xy, E_xye))\n",
    "\n",
    "#PRINT AND CHECK"
   ]
  },
  {
   "cell_type": "markdown",
   "id": "e700ba7d",
   "metadata": {},
   "source": [
    "We can do the same for all the other angles (ie, doing the same code, which is not here because it would take too much space), and the results we found are tabulated in the Results section."
   ]
  },
  {
   "cell_type": "markdown",
   "id": "6a9224b6",
   "metadata": {},
   "source": [
    "## Results\n",
    "\n",
    "Finally, we get for each SOP incident on the 1/4 WP under study:\n",
    "\n",
    "**Table 2**: Parameters of the polarised beam of a 1/4 WP depending on the initial incident SOP\n",
    "\n",
    "SOP incident on 1/4 WP | $\\psi$ | $\\chi$ | $\\delta$ | a | b | $b/a$ | $E_x/E_y$\n",
    ":-------:|:---------------------:|:-------------------:|:--------------------:|:------------------:|:-----------------:|:-----------------:|:-------------------:\n",
    "45&deg;  | $-44.151 \\pm 0.007$   | $37.748 \\pm 0.002$  | $91.6628 \\pm 0.0004$ | $1.118 \\pm 0.001$  | $0.866 \\pm 0.002$ | $0.774 \\pm 0.002$ | $1.0008 \\pm 0.0004$\n",
    "-45&deg; | $45.868 \\pm 0.008$    | $-36.955 \\pm 0.005$ | $-88.555 \\pm 0.003$  | $1.130 \\pm 0.004$  | $0.850 \\pm 0.006$ | $0.752 \\pm 0.006$ | $0.9992 \\pm 0.0004$\n",
    "-20&deg; | $1.188 \\pm 0.002$     | $-17.866 \\pm 0.001$ | $-86.892 \\pm 0.004$  | $1.3460 \\pm 0.004$ | $0.434 \\pm 0.001$ | $0.322 \\pm 0.001$ | $2.74 \\pm 0.02$\n",
    "60&deg;  | $-87.7818 \\pm 0.0002$ | $28.728 \\pm 0.004$  | $92.597 \\pm 0.001$   | $1.240 \\pm 0.003$  | $0.680 \\pm 0.005$ | $0.548 \\pm 0.004$ | $0.583 \\pm 0.004$\n"
   ]
  },
  {
   "cell_type": "markdown",
   "id": "9ea62c98",
   "metadata": {},
   "source": [
    "## Discussion\n",
    "\n",
    "Firstly, in table 2, all the erors for $\\delta$ are consistent with the fact that we are studying a 1/4 WP, as their absolute value is similar to $90^\\circ$. Which is the phase difference between the orthogonal components of the SOP. However, the values calculated for 45 and -45&deg; are much closer to the real value ($\\approx 2 \\%$ difference), while the other two are further away ($\\approx 3 \\%$ difference), this is not much, but nevertheless indicates that the way we set the $\\pm 45$ SOPs (using the method in paragraph 4) is more precise that setting the 1/2 WP at half the desired angle, as we can get a precision of less than a degree.\n",
    "\n",
    "**For the 45° angle**: $\\psi$ should be undefined, as discussed earlier. However, our values are not perfect, and so it gives back an angle. This is ok, because it indicates that $|s_1| \\approx |s_2|$ (which should both equal 0 in a perfect situation). $\\chi$ should equal 45° here, as this is right circularly polarised light, which gives a large difference of 15% with the measured value. The gradient of $\\arctan(x)$ is very steep at 1, its expected value, which means the function is very sensitive to small deviations there. This propagates to our value of $a/b$, which is quite distant from its expected value of 1 for circularly polarised light (more than 20%). However, $E_x/E_y = 1$, as expected.\n",
    "\n",
    "**For the -45° angle**: The same things can be said for this angle, and most of it has already been discussed in the Data Analysis part. Something to note is that $E_x/E_y = 1$, as expected.\n",
    "\n",
    "**For the -20° angle**: $\\psi$, the angle of orientation, is very small, which indicates that the long axis is nearly aligned with the x-axis, which is what I would expect for small angles. Further, $\\chi$ and $\\delta$ are negative, which indicates that the beam rotates to the left, which is consistent with the fact that this angle is negative. Finally, $b/a$ is quite close to 0.5. This is because we're about halfway between circularly polarised anf linearly polarised light (which would have $b/a = 0$), and so the ratio between the two axes of the ellipse would be 0.5\n",
    "\n",
    "**For the 60° angle**: $\\psi$ is nearly 90°. This may be because we are approaching a 90° angle, where linearly polarised light *perpendicular* to the x-axis is created. $\\chi$ and $\\delta$ are positive, which indicates that the beam rotates to the right, which is consistent with the fact that this angle is positive. $b/a$ is closer to 1 than it is to 0.5, which is consistent with the fact that $60 < 72.5$, where we would expect a value of 0.5.\n",
    "\n",
    "Finally, all our errors are underestimates. One reason I can find is that, because it takes a long time to adjust the $\\pm 45^\\circ$ SOP, I didn't change it between the measurements sets, which means I only took care of the random error introduced by the detector signal and the analyser angle. Another way of putting it is that there would be a systematic error on the SOP angle leaving the 1/2 WP."
   ]
  },
  {
   "cell_type": "markdown",
   "id": "59bfbd6e",
   "metadata": {},
   "source": [
    "# Using Stokes' Parameters"
   ]
  },
  {
   "cell_type": "markdown",
   "id": "1b197a8d",
   "metadata": {},
   "source": [
    "## Objective\n",
    "\n",
    "Here, we want to apply what we learned in the previous section to study an arbitrary waveplate (arb WP)."
   ]
  },
  {
   "cell_type": "markdown",
   "id": "446c90bc",
   "metadata": {},
   "source": [
    "## Experimental Method"
   ]
  },
  {
   "cell_type": "markdown",
   "id": "a08d0377",
   "metadata": {},
   "source": [
    "### Experimental set-up\n",
    "\n",
    "In this part, we want to study an arbitrary WP. This means we just need to replace the 1/4 WP we studied in the previous section by this arbitrary plate. This arbitrary plate needs to have it's scale set up such that we have maximum transmission at 0°. This was done in the same way as in the previous sections."
   ]
  },
  {
   "cell_type": "markdown",
   "id": "8c6f0242",
   "metadata": {},
   "source": [
    "### Measurements\n",
    "\n",
    "Firstly, this WP has two transmission axes, which are parallel to eachother (one at 0°, the other at 90°).\n",
    "\n",
    "Further, by rotating the analyser, we find that for the first transmission axis (0°) the max and min transmissions are\n",
    "\n",
    "(These are not background subtracted.)\n",
    "\n",
    "**max transmission** at 0&deg; (880 counts), 180&deg; (875 counts)\n",
    "\n",
    "**min transmission** at 90&deg; (9 counts), 270&deg; (10 counts)\n",
    "\n",
    "And on the another lab day, we found\n",
    "\n",
    "**max transmission** at 0&deg; (916 counts), 180&deg; (920 counts)\n",
    "\n",
    "**min transmission** at 90&deg; (3 counts), 270&deg; (2 counts)\n",
    "\n",
    "Which confirms that the WP has no effect on 0&deg; polarised light.\n",
    "\n",
    "Unfortunatley, I was not able to take the same measurements for the 45&deg; angle, so we won't be able to compare what we would have found with the later results using Stokes' parameters.\n",
    "\n",
    "Now, we want to measure Stokes' parameters, as we did in the previous section. To do this, we measure $P(0,0)$, $P(0,0)$, $P(90,0)$, $P(45,0)$, $P(-45,0)$, $P(-45,-90)$ for incident SOPs of $\\pm 45^\\circ$ in the same way as the in the previous section (I take the arbritary waveplate and replace with 1/4 WP to create circularly polarised light in the same way as described before, then take away 1/4 WP and place arb WP again.). We then find, for SOP angles from x-axis (so minus the value incident on arb WP):\n",
    "\n",
    "\n",
    "**Table 3**: P($\\psi$, $\\epsilon$) for arb for different polarisations with respect to x-axis (minus value incident on the plate)\n",
    "\n",
    "P($\\psi$, $\\epsilon$) | output for 45&deg; | output for -45&deg;\n",
    ":--------:|:-------------:|:-------------:\n",
    "P(0,0)    | 437, 440, 441 | 397, 396, 397\n",
    "P(90,0)   | 387, 387, 388 | 434, 435, 432\n",
    "P(45,0)   | 270, 270, 270 | 567, 568, 565\n",
    "P(-45,0)  | 564, 564, 565 | 272, 273, 273\n",
    "P(45,-90) | 766, 773, 766 | 32, 32, 32\n",
    "P(-45,-90)| 32, 28, 32    | 770, 771, 771\n"
   ]
  },
  {
   "cell_type": "markdown",
   "id": "6b3c89c0",
   "metadata": {},
   "source": [
    "## Data analysis and results\n",
    "\n",
    "We use exactly the same code as the previous part for the data analysis, and find:\n",
    "\n",
    "**Table 4**: Parameters of the polarised beam of arb WP depending on the initial incident SOP\n",
    "\n",
    "SOP incident on arb WP | $\\psi$ | $\\chi$ | $\\delta$ | a | b | $b/a$ | $E_x/E_y$\n",
    ":-------:|:---------------------:|:-------------------:|:--------------------:|:------------------:|:-----------------:|:-----------------:|:-------------------:\n",
    "45&deg;  | $48.586 \\pm 0.002$    | $-31.685 \\pm 0.001$  | $-68.2968 \\pm 0.001$ | $1.203 \\pm 0.001$  | $0.743 \\pm 0.001$ | $0.617 \\pm 0.001$ | $0.956 \\pm 0.001$\n",
    "-45&deg; | $-39.991 \\pm 0.002$   | $31.869 \\pm 0.005$ | $111.753 \\pm 0.002$  | $1.201 \\pm 0.004$  | $0.747 \\pm 0.006$ | $0.622 \\pm 0.006$ | $1.065 \\pm 0.001$"
   ]
  },
  {
   "cell_type": "markdown",
   "id": "e8aa4e4d",
   "metadata": {},
   "source": [
    "## Discussion\n",
    "\n",
    "Firstly, the two $\\delta$s are at 180&deg; from each other, which is what we would expect for 2 angles which have different signs. This means this arbitrary waveplate introduces a phase difference of $112^\\circ$ or $-68^\\circ$ depending on the sign of the incidence angle. This also means that the first SOP is rotating anticlockwise, while the second is rotating clockwise. Further, the values for $|\\chi|$ and $a/b$ are the same, which we would expect for angles which are symmetric with respect to the transmission axis.\n",
    "\n",
    "The errors are all underestimated for the reasons described above."
   ]
  },
  {
   "cell_type": "markdown",
   "id": "1bc75354",
   "metadata": {},
   "source": [
    "# Investigation of strain birefringence"
   ]
  },
  {
   "cell_type": "markdown",
   "id": "e8442316",
   "metadata": {},
   "source": [
    "## Objective\n",
    "\n",
    "Here, we want to see the effect of strain on the birefringence of a material."
   ]
  },
  {
   "cell_type": "markdown",
   "id": "4e64765b",
   "metadata": {},
   "source": [
    "## Experimental Method"
   ]
  },
  {
   "cell_type": "markdown",
   "id": "aedd53e5",
   "metadata": {},
   "source": [
    "### Experimental set-up\n",
    "\n",
    "For this last part, we take away all the waveplates to only keep the polariser and analyser. We cross them for minimum transmission (ie polariser at 0 and analyser at 90). We then add the Perspex place and adjust the angle until there's minimum transmission and clamp it."
   ]
  },
  {
   "cell_type": "markdown",
   "id": "107f366a",
   "metadata": {},
   "source": [
    "### Measurements and Discussion\n",
    "\n",
    "We want to see the effect of bending the plate at minimum transmission, 50% transmission and maximum transmission (each of these found by rotating the plate). Note that when I say \"without bending\", I mean how the plate is naturally, as it is not straight. Without subtracting the background, I find\n",
    "\n",
    "**minimum transmission**: 2 counts without bending. Bending, I get values from 2 to 33 counts. It increases as I bend it more.\n",
    "\n",
    "**maximum transmission**: 169 counts without bending. Bending, it varies from 130 to 172 counts. Bending further decreases the count number\n",
    "\n",
    "**50% transmission**: 80 counts without bending. Bending, it varies from 2 to 100 counts. Bending backwards (towards analyser) decreases the count number, while bending forwards (towards polariser) increases the count.\n",
    "\n",
    "This firstly shows that the transmission changes depending on how bent the plate is. This means strain on some material (usually isotropic) will cause a change in polarisation to change. In other words, strain will cause double refraction, ie birefringence. Note that this birefringence is only caused by stress/strain, as Perspex is a polymer (https://en.wikipedia.org/wiki/Poly(methyl_methacrylate)), and so shouldn't exhibit birefringence. We see that the change in transmission is a lot bigger when the plate is at 50% transmission (at rest) than when it is at maximal or minimal transmission. I wasn't able to find why. Stress/strain birefringence can also be seen for glass (https://www.vedantu.com/physics/double-refraction) and is used to map out the stress/strain in different parts of an object. It is the basis for the study of photoelasticity (https://en.wikipedia.org/wiki/Photoelasticity) (more on that later)."
   ]
  }
 ],
 "metadata": {
  "kernelspec": {
   "display_name": "Default",
   "language": "python",
   "name": "python3"
  },
  "language_info": {
   "codemirror_mode": {
    "name": "ipython",
    "version": 3
   },
   "file_extension": ".py",
   "mimetype": "text/x-python",
   "name": "python",
   "nbconvert_exporter": "python",
   "pygments_lexer": "ipython3",
   "version": "3.8.8"
  }
 },
 "nbformat": 4,
 "nbformat_minor": 5
}
