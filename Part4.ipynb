{
 "cells": [
  {
   "cell_type": "code",
   "execution_count": 8,
   "id": "44695952",
   "metadata": {},
   "outputs": [],
   "source": [
    "import numpy as np"
   ]
  },
  {
   "cell_type": "markdown",
   "id": "f9835c31",
   "metadata": {},
   "source": [
    "# Objective"
   ]
  },
  {
   "cell_type": "markdown",
   "id": "1f959798",
   "metadata": {},
   "source": [
    "# Introduction to Stokes' Parameters"
   ]
  },
  {
   "cell_type": "markdown",
   "id": "c7647cd7",
   "metadata": {},
   "source": [
    "## Objective"
   ]
  },
  {
   "cell_type": "markdown",
   "id": "cdb9db59",
   "metadata": {},
   "source": [
    "## Experimental Method"
   ]
  },
  {
   "cell_type": "code",
   "execution_count": null,
   "id": "3e2299ce",
   "metadata": {},
   "outputs": [],
   "source": []
  },
  {
   "cell_type": "markdown",
   "id": "4aef7aa5",
   "metadata": {},
   "source": [
    "### Experimental set-up"
   ]
  },
  {
   "cell_type": "markdown",
   "id": "3493fbb1",
   "metadata": {},
   "source": [
    "We want to study the effect of a 1/4 WP on an incoming SOP. To do this, we want to calculate Stokes' parameters associated with the outgoing beam using the power outputs $P(0,0)$, $P(0,0)$, $P(90,0)$, $P(45,0)$, $P(-45,0)$, $P(-45,-90)$ where $\\psi$ in $P(\\psi, \\epsilon)$ is the angle of the analyser and $\\epsilon$ the phase shift of the $E_y$ field of the SOP after leaving the 1/4 WP. For $\\epsilon = 0$, this means we need the polariser to polarise the laser beam, the 1/2 WP to set the initial angle of the SOP, the 1/4 WP under study and the analyser. To achieve $\\epsilon = -90^ \\circ$, we have to add another 1/4 WP with its fast axis aligned with the x-axis, which comes back to the properties of the 1/4 WP."
   ]
  },
  {
   "cell_type": "markdown",
   "id": "0758209e",
   "metadata": {},
   "source": [
    "### Measurements\n",
    "\n",
    "We choose SOPs of .... and get:"
   ]
  },
  {
   "cell_type": "markdown",
   "id": "726e0d32",
   "metadata": {},
   "source": [
    "## Data analysis\n",
    "\n",
    "We first want to calculate Stokes' parameters, ie eauqtions (9)-(12) in the lab script, knowing that\n",
    "\n",
    "$$\\begin{align}\n",
    "S_0 &= P(0,0) + P(90,0) \\\\\n",
    "S_1 &= P(0,0) - P(90,0) \\\\\n",
    "S_2 &= P(45,0) - P(-45,0) \\\\\n",
    "S_3 &= P(45,-90) - P(-45,-90) \\\\\n",
    "\\end{align}$$\n",
    "\n",
    "We start by the 45&deg; SOP incident on the 1/4 WP understudy"
   ]
  },
  {
   "cell_type": "code",
   "execution_count": 24,
   "id": "83e64bf1",
   "metadata": {},
   "outputs": [],
   "source": [
    "#subtract background\n",
    "#measurement - background\n",
    "#also do mean measurements and stuff if applicable\n",
    "\n",
    "#now calculate Stoke's parameters\n",
    "S0 = #P(0,0) + P(90, 0)\n",
    "S1 = #P(0,0) - P(90, 0)\n",
    "S2 = #P(45,0) - P(-45, 0)\n",
    "S3 = #P(45,-90) - P(-45, -90)"
   ]
  },
  {
   "cell_type": "markdown",
   "id": "ee80a6bb",
   "metadata": {},
   "source": [
    "Now we want to normalise these results by dividing by $S_0$ to get the corresponding normalised values $s_0, s_1, s_2$ and $s_3$ such that $s_0 = 1$, so that the Poincaré sphere has a radius 1 (every point on the surface of the sphere represent a unique SOP, and is therefore a useful geometric visualisation, see figure 12 in the lab script)."
   ]
  },
  {
   "cell_type": "code",
   "execution_count": 25,
   "id": "5b321c24",
   "metadata": {},
   "outputs": [],
   "source": [
    "s0, s1, s2, s3 = [S0, S1, S2, S3]*np.ones_like(4)*(1/S0)"
   ]
  },
  {
   "cell_type": "markdown",
   "id": "5bed5589",
   "metadata": {},
   "source": [
    "SHOULD FIND FOR A 45 DEG ANGLE:\n",
    "Here, we see that $s_0 = 1 \\approx s_3$ and $s_1 \\approx s_2 \\approx 0$. This means the SOP is at the 'north pole' of the sphere, and so $\\delta = 90^\\circ$, meaning this is right circularly polarised light. This agrees with the fact that 1/4 WP turn a 45° SOP into right circularly polarised light. This also means we would expect $a=b$, $\\psi = 0$ and $\\chi = 45^\\circ$.\n",
    "\n",
    "From the Poincare sphere in figure 12, we see that\n",
    "$$\\tan(2\\psi) = s_2/s_1$$\n",
    "\n",
    "and\n",
    "\n",
    "$$\\sin(2\\chi) = s_3/s_0$$\n",
    "\n",
    "We then need to take the inverse functions and divide by two to find $\\psi$ and $\\chi$.\n",
    "\n",
    "We also know that\n",
    "\n",
    "$$\\tan(2\\delta) = s_3/s_2$$\n",
    "\n",
    "which was derived in the lab script.\n",
    "\n",
    "For the tan function, we need to use the `np.arctan2()` to make sure our angle is in the right quadrant."
   ]
  },
  {
   "cell_type": "code",
   "execution_count": 26,
   "id": "16c12cef",
   "metadata": {},
   "outputs": [
    {
     "name": "stdout",
     "output_type": "stream",
     "text": [
      "We then have psi = 0.0, chi = 45.0 and delta = 90.0\n"
     ]
    }
   ],
   "source": [
    "psi   = np.arctan2(s2, s1)/2\n",
    "chi   = np.arcsin(s3/s0) /2\n",
    "delta = np.arctan2(s3, s2)\n",
    "\n",
    "print('We then have psi = {0}, chi = {1} and delta = {2}'.format(psi*180/np.pi, chi*180/np.pi, delta*180/np.pi)) #converting to degrees"
   ]
  },
  {
   "cell_type": "markdown",
   "id": "dffb1908",
   "metadata": {},
   "source": [
    "Further, from equation (7) in the lab script,\n",
    "\n",
    "$$E^2_{0x} + E^2_{0y} = a^2 + b^2$$\n",
    "\n",
    "and $\\chi$ is defined by\n",
    "\n",
    "$$\\tan(\\chi) = b/a$$\n",
    "\n",
    "As $E^2_{0x} + E^2_{0y} = 2s_0$ (eq 13), we finally have\n",
    "\n",
    "$$\\begin{align}\n",
    "a &= \\sqrt{\\frac{2s_0}{\\tan(\\chi)}} \\\\\n",
    "b &= a\\tan(\\chi) = \\sqrt{2s_0\\tan(\\chi)}\n",
    "\\end{align}$$"
   ]
  },
  {
   "cell_type": "code",
   "execution_count": 23,
   "id": "7508a41a",
   "metadata": {},
   "outputs": [
    {
     "name": "stdout",
     "output_type": "stream",
     "text": [
      "-0.9999999999999999\n",
      "We then have that a = 1.4142135623730951 and b = 1.414213562373095\n"
     ]
    }
   ],
   "source": [
    "print(np.tan(chi))\n",
    "a = np.sqrt(abs(2*s0/np.tan(chi)))\n",
    "b = np.sqrt(abs(2*s0*np.tan(chi)))\n",
    "\n",
    "print('We then have that a = {0} and b = {1}'.format(a,b))"
   ]
  },
  {
   "cell_type": "markdown",
   "id": "bd2b3b92",
   "metadata": {},
   "source": [
    "This is for whoever runs this code. To avoid coppying and pasting for each SOP, a good thing is to do a loop, like so"
   ]
  },
  {
   "cell_type": "code",
   "execution_count": null,
   "id": "e32de86f",
   "metadata": {},
   "outputs": [],
   "source": [
    "S0 = #P(0,0) array + P(90, 0) array\n",
    "S1 = #P(0,0) array - P(90, 0) array\n",
    "S2 = #P(45,0) array - P(-45, 0) array\n",
    "S3 = #P(45,-90) array - P(-45, -90) array\n",
    "\n",
    "#S0, S1, S2 and S3 will be arrays, no need for a loop\n",
    "\n",
    "#define the arrays you will need to append\n",
    "array_a = []\n",
    "array_b = []\n",
    "array_chi = []\n",
    "array_psi = []\n",
    "array_delta = []\n",
    "\n",
    "for i, S in enumerate(S0):\n",
    "    s0, s1, s2, s3 = [S0[i], S1[i], S2[i], S3[i]]*(1/S0[i])\n",
    "    # you can print this to check its consistent\n",
    "    \n",
    "    psi   = np.arctan2(s2, s1)/2\n",
    "    chi   = np.arcsin(s3/s0) /2\n",
    "    delta = np.arctan2(s3, s2)\n",
    "    print('We then have psi = {0}, chi = {1} and delta = {2} for SOP of angle (add the angle of the SOP here using format)'.format(psi, chi, delta))\n",
    "    \n",
    "    array_psi.append(psi)\n",
    "    array_chi.append(chi)\n",
    "    array_delta.append(delta)\n",
    "    \n",
    "    a = np.sqrt(2*s0/np.tan(chi))\n",
    "    b = np.sqrt(2*s0*np.tan(chi))\n",
    "\n",
    "    print('We then have that a = {0} and b = {1} for SOP of angle (add the angle of the SOP here using format)'.format(a,b))\n",
    "    \n",
    "    array_a.append(a)\n",
    "    array_b.append(b)"
   ]
  },
  {
   "cell_type": "markdown",
   "id": "84144e43",
   "metadata": {},
   "source": [
    "You can then tabulate the values as described in the lab script."
   ]
  },
  {
   "cell_type": "markdown",
   "id": "9b6e9f17",
   "metadata": {},
   "source": [
    "# Using Stokes' Parameters"
   ]
  },
  {
   "cell_type": "markdown",
   "id": "8a59897c",
   "metadata": {},
   "source": [
    "## Objective"
   ]
  },
  {
   "cell_type": "markdown",
   "id": "67fb5408",
   "metadata": {},
   "source": [
    "## Experimental Method"
   ]
  },
  {
   "cell_type": "markdown",
   "id": "90bf33e2",
   "metadata": {},
   "source": [
    "### Experimental set-up\n",
    "\n",
    "In this part, we want to study an arbitrary WP. This means we just need to replace the 1/4 WP we studied in the previous section by this arbitrary plate. This arbitrary plate needs to have it's scale set up such that we have maximum transmission at 0°. This was done in the same way as in the previous sections."
   ]
  },
  {
   "cell_type": "markdown",
   "id": "cebd0746",
   "metadata": {},
   "source": [
    "### Measurements\n",
    "\n",
    "Firstly, this WP has two transmission axes, which are parallel to eachother (one at 0°, the other at 90°).\n",
    "\n",
    "Further, by rotating the analyser, we find that for the first transmission axis (0°) the max and min transmissions are\n",
    "\n",
    "(These are not background subtracted.)\n",
    "\n",
    "**max transmission** at 0&deg; (880 counts), 180&deg; (875 counts)\n",
    "\n",
    "**min transmission** at 90&deg; (9 counts), 270&deg; (10 counts)\n",
    "\n",
    "As the background was 3 when these measurements were made, this SOP may not be exactly linearly polarised, as the minimum transmission is not at 0.\n",
    "\n",
    "Further, we see here that the maximum and minimum transmissions are respectively at $E_{0x}$ and $E_{0y}$ which means, with reference to figure 8 in the lab script, we would expect $\\frac{b}{a} = \\frac{E_0x}{E_0y} = \\sqrt{\\frac{P(0,0)}{P(90, 0)}}$, which are, respectively, the transmissions at 0 and 90°. This means we would expect\n",
    "\n",
    "$$\\frac{b}{a} = \\frac{880-3}{9-3} = 146$$\n",
    "\n",
    "where we have subtracted the background of 3. As $\\tan \\chi = \\frac{b}{a}$,\n",
    "\n",
    "$$\\chi = 89.6^ \\circ$$\n",
    "\n",
    "where we made sure we were in the right quadrant here. This is very short, so this might actually be linearly polarised light and where we introduced an error somehow. TO CHECK\n",
    "\n",
    "Now, we want to measure Stokes' parameters, as we did in the previous section. To do this, we measure $P(0,0)$, $P(0,0)$, $P(90,0)$, $P(45,0)$, $P(-45,0)$, $P(-45,-90)$ for incident SOPs of $\\pm 45^\\circ$ in the same way as the in the previous section. We then find:"
   ]
  },
  {
   "cell_type": "markdown",
   "id": "0b845370",
   "metadata": {},
   "source": [
    "## Data analysis\n",
    "\n",
    "We calculate Stokes' parameters in the same way as the previous section, and find"
   ]
  },
  {
   "cell_type": "code",
   "execution_count": null,
   "id": "83bd6fda",
   "metadata": {},
   "outputs": [],
   "source": [
    "#subtract background\n",
    "#measurement - background\n",
    "#also do mean measurements and stuff if applicable\n",
    "\n",
    "#now calculate Stoke's parameters\n",
    "S0 = #P(0,0) + P(90, 0)\n",
    "S1 = #P(0,0) - P(90, 0)\n",
    "S2 = #P(45,0) - P(-45, 0)\n",
    "S3 = #P(45,-90) - P(-45, -90)\n",
    "\n",
    "#print etc"
   ]
  },
  {
   "cell_type": "markdown",
   "id": "43906604",
   "metadata": {},
   "source": [
    "Which we can then use to calculate $\\chi$, $\\psi$, $\\delta$, $a$ and $b$."
   ]
  },
  {
   "cell_type": "code",
   "execution_count": null,
   "id": "a077e32d",
   "metadata": {},
   "outputs": [],
   "source": [
    "#define the arrays you will need to append\n",
    "array_a = []\n",
    "array_b = []\n",
    "array_chi = []\n",
    "array_psi = []\n",
    "array_delta = []\n",
    "\n",
    "for i, S in enumerate(S0):\n",
    "    s0, s1, s2, s3 = [S0[i], S1[i], S2[i], S3[i]]*(1/S0[i])\n",
    "    # you can print this to check its consistent\n",
    "    \n",
    "    psi   = np.arctan2(s2, s1)/2\n",
    "    chi   = np.arcsin(s3/s0) /2\n",
    "    delta = np.arctan2(s3, s2)\n",
    "    print('We then have psi = {0}, chi = {1} and delta = {2} for SOP of angle (add the angle of the SOP here using format)'.format(psi, chi, delta))\n",
    "    \n",
    "    array_psi.append(psi)\n",
    "    array_chi.append(chi)\n",
    "    array_delta.append(delta)\n",
    "    \n",
    "    a = np.sqrt(2*s0/np.tan(chi))\n",
    "    b = np.sqrt(2*s0*np.tan(chi))\n",
    "\n",
    "    print('We then have that a = {0} and b = {1} for SOP of angle (add the angle of the SOP here using format)'.format(a,b))\n",
    "    \n",
    "    array_a.append(a)\n",
    "    array_b.append(b)"
   ]
  },
  {
   "cell_type": "markdown",
   "id": "0112ec38",
   "metadata": {},
   "source": [
    "Which we can tabulate:"
   ]
  },
  {
   "cell_type": "markdown",
   "id": "931e9cb6",
   "metadata": {},
   "source": [
    "# Investigation of strain birefringence"
   ]
  },
  {
   "cell_type": "markdown",
   "id": "749f2c04",
   "metadata": {},
   "source": [
    "## Objective"
   ]
  },
  {
   "cell_type": "markdown",
   "id": "198e8d88",
   "metadata": {},
   "source": [
    "## Experimental Method"
   ]
  },
  {
   "cell_type": "markdown",
   "id": "65ec04d8",
   "metadata": {},
   "source": [
    "### Experimental set-up\n",
    "\n",
    "For this last part, we take away all the waveplates to only keep the polariser and analyser. We then add the Perspex place and adjust it until there's minimum transmission "
   ]
  },
  {
   "cell_type": "markdown",
   "id": "f3b9c96f",
   "metadata": {},
   "source": [
    "### Measurements"
   ]
  },
  {
   "cell_type": "markdown",
   "id": "25943385",
   "metadata": {},
   "source": [
    "## Data analysis"
   ]
  },
  {
   "cell_type": "code",
   "execution_count": null,
   "id": "7b2782d9",
   "metadata": {},
   "outputs": [],
   "source": []
  },
  {
   "cell_type": "markdown",
   "id": "913163ea",
   "metadata": {},
   "source": [
    "# Discussion\n",
    "\n"
   ]
  }
 ],
 "metadata": {
  "kernelspec": {
   "display_name": "Default",
   "language": "python",
   "name": "python3"
  },
  "language_info": {
   "codemirror_mode": {
    "name": "ipython",
    "version": 3
   },
   "file_extension": ".py",
   "mimetype": "text/x-python",
   "name": "python",
   "nbconvert_exporter": "python",
   "pygments_lexer": "ipython3",
   "version": "3.8.6"
  }
 },
 "nbformat": 4,
 "nbformat_minor": 5
}
