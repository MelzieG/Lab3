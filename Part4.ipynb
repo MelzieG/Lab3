{
 "cells": [
  {
   "cell_type": "code",
   "execution_count": 8,
   "id": "45be273c",
   "metadata": {},
   "outputs": [],
   "source": [
    "import numpy as np"
   ]
  },
  {
   "cell_type": "markdown",
   "id": "6224a4a9",
   "metadata": {},
   "source": [
    "# Objective"
   ]
  },
  {
   "cell_type": "markdown",
   "id": "ebda4be9",
   "metadata": {},
   "source": [
    "# Introduction to Stokes' Parameters"
   ]
  },
  {
   "cell_type": "markdown",
   "id": "bc8c7d0c",
   "metadata": {},
   "source": [
    "## Objective"
   ]
  },
  {
   "cell_type": "markdown",
   "id": "d3b8301a",
   "metadata": {},
   "source": [
    "## Experimental Method"
   ]
  },
  {
   "cell_type": "markdown",
   "id": "54213109",
   "metadata": {},
   "source": [
    "angle of first 1/4 WP => 45 deg, so creation of circularly polarised light\n"
   ]
  },
  {
   "cell_type": "code",
   "execution_count": null,
   "id": "b9f8c435",
   "metadata": {},
   "outputs": [],
   "source": []
  },
  {
   "cell_type": "markdown",
   "id": "c93f75c3",
   "metadata": {},
   "source": [
    "### Experimental set-up"
   ]
  },
  {
   "cell_type": "markdown",
   "id": "30542ff0",
   "metadata": {},
   "source": [
    "### Measurements"
   ]
  },
  {
   "cell_type": "markdown",
   "id": "2b6328fc",
   "metadata": {},
   "source": [
    "## Data analysis\n",
    "\n",
    "We first want to calculate Stokes' parameters, ie eauqtions (9)-(12) in the lab script, knowing that\n",
    "\n",
    "$$\\begin{align}\n",
    "S_0 &= P(0,0) + P(90,0) \\\\\n",
    "S_1 &= P(0,0) - P(90,0) \\\\\n",
    "S_2 &= P(45,0) - P(-45,0) \\\\\n",
    "S_3 &= P(45,-90) - P(-45,-90) \\\\\n",
    "\\end{align}$$"
   ]
  },
  {
   "cell_type": "code",
   "execution_count": 24,
   "id": "911d801f",
   "metadata": {},
   "outputs": [],
   "source": [
    "S0 = 400 + 400\n",
    "S1 = 400 - 400\n",
    "S2 = 400 - 400\n",
    "S3 = 800 - 0"
   ]
  },
  {
   "cell_type": "markdown",
   "id": "321f6808",
   "metadata": {},
   "source": [
    "Now we want to normalise these results by dividing by $S_0$ to get the corresponding normalised values $s_0, s_1, s_2$ and $s_3$ such that $s_0 = 1$. WHY??? (so that radius of poincare sphere is 1)."
   ]
  },
  {
   "cell_type": "code",
   "execution_count": 25,
   "id": "8babb8bf",
   "metadata": {},
   "outputs": [],
   "source": [
    "s0, s1, s2, s3 = [S0, S1, S2, S3]*np.ones_like(4)*(1/S0)"
   ]
  },
  {
   "cell_type": "markdown",
   "id": "98df10ff",
   "metadata": {},
   "source": [
    "ESTIMATE SHAPE OF OUTPUT SOP FROM KNOZLEDGE OF POINCARE SPHERE\n",
    "\n",
    "From the Poincare sphere in figure 12, we see that\n",
    "$$\\tan(2\\psi) = s_2/s_1$$\n",
    "\n",
    "and\n",
    "\n",
    "$$\\sin(2\\chi) = s_3/s_0$$\n",
    "\n",
    "We then need to take the inverse functions and divide by two to find $\\psi$ and $\\chi$.\n",
    "\n",
    "We also know that\n",
    "\n",
    "$$\\tan(2\\delta) = s_3/s_2$$\n",
    "\n",
    "which was derived in the lab script.\n",
    "\n",
    "For the tan function, we need to use the `np.arctan2()` to make sure our angle is in the right quadrant."
   ]
  },
  {
   "cell_type": "code",
   "execution_count": 26,
   "id": "1b22605f",
   "metadata": {},
   "outputs": [
    {
     "name": "stdout",
     "output_type": "stream",
     "text": [
      "We then have psi = 0.0, chi = 45.0 and delta = 90.0\n"
     ]
    }
   ],
   "source": [
    "psi   = np.arctan2(s2, s1)/2\n",
    "chi   = np.arcsin(s3/s0) /2\n",
    "delta = np.arctan2(s3, s2)\n",
    "\n",
    "print('We then have psi = {0}, chi = {1} and delta = {2}'.format(psi*180/np.pi, chi*180/np.pi, delta*180/np.pi)) #converting to degrees"
   ]
  },
  {
   "cell_type": "markdown",
   "id": "e549c5c5",
   "metadata": {},
   "source": [
    "Further, from equation (7) in the lab script,\n",
    "\n",
    "$$E^2_{0x} + E^2_{0y} = a^2 + b^2$$\n",
    "\n",
    "and $\\chi$ is defined by\n",
    "\n",
    "$$\\tan(\\chi) = b/a$$\n",
    "\n",
    "As $E^2_{0x} + E^2_{0y} = 2s_0$ (eq 13), we finally have\n",
    "\n",
    "$$\\begin{align}\n",
    "a &= \\sqrt{\\frac{2s_0}{\\tan(\\chi)}} \\\\\n",
    "b &= a\\tan(\\chi) = \\sqrt{2s_0\\tan(\\chi)}\n",
    "\\end{align}$$"
   ]
  },
  {
   "cell_type": "code",
   "execution_count": 23,
   "id": "b738b81d",
   "metadata": {},
   "outputs": [
    {
     "name": "stdout",
     "output_type": "stream",
     "text": [
      "-0.9999999999999999\n",
      "We then have that a = 1.4142135623730951 and b = 1.414213562373095\n"
     ]
    }
   ],
   "source": [
    "print(np.tan(chi))\n",
    "a = np.sqrt(abs(2*s0/np.tan(chi)))\n",
    "b = np.sqrt(abs(2*s0*np.tan(chi)))\n",
    "\n",
    "print('We then have that a = {0} and b = {1}'.format(a,b))"
   ]
  },
  {
   "cell_type": "markdown",
   "id": "45a223f7",
   "metadata": {},
   "source": [
    "This is for whoever runs this code. To avoid coppying and pasting for each SOP, a good thing is to do a loop, like so"
   ]
  },
  {
   "cell_type": "code",
   "execution_count": null,
   "id": "ba1c0dd9",
   "metadata": {},
   "outputs": [],
   "source": [
    "S0 = #P(0,0) array + P(90, 0) array\n",
    "S1 = #P(0,0) array - P(90, 0) array\n",
    "S2 = #P(45,0) array - P(-45, 0) array\n",
    "S3 = #P(45,-90) array - P(-45, -90) array\n",
    "\n",
    "#S0, S1, S2 and S3 will be arrays, no need for a loop\n",
    "\n",
    "#define the arrays you will need to append\n",
    "array_a = []\n",
    "array_b = []\n",
    "array_chi = []\n",
    "array_psi = []\n",
    "array_delta = []\n",
    "\n",
    "for i, S in enumerate(S0):\n",
    "    s0, s1, s2, s3 = [S0[i], S1[i], S2[i], S3[i]]*(1/S0[i])\n",
    "    # you can print this to check its consistent\n",
    "    \n",
    "    psi   = np.arctan2(s2, s1)/2\n",
    "    chi   = np.arcsin(s3/s0) /2\n",
    "    delta = np.arctan2(s3, s2)\n",
    "    print('We then have psi = {0}, chi = {1} and delta = {2} for SOP of angle (add the angle of the SOP here using format)'.format(psi, chi, delta))\n",
    "    \n",
    "    array_psi.append(psi)\n",
    "    array_chi.append(chi)\n",
    "    array_delta.append(delta)\n",
    "    \n",
    "    a = np.sqrt(2*s0/np.tan(chi))\n",
    "    b = np.sqrt(2*s0*np.tan(chi))\n",
    "\n",
    "    print('We then have that a = {0} and b = {1} for SOP of angle (add the angle of the SOP here using format)'.format(a,b))\n",
    "    \n",
    "    array_a.append(a)\n",
    "    array_b.append(b)"
   ]
  },
  {
   "cell_type": "markdown",
   "id": "66158e60",
   "metadata": {},
   "source": [
    "You can then tabulate the values as described in the lab script."
   ]
  },
  {
   "cell_type": "markdown",
   "id": "88bb5aeb",
   "metadata": {},
   "source": [
    "# Using Stokes' Parameters"
   ]
  },
  {
   "cell_type": "markdown",
   "id": "fd4830f9",
   "metadata": {},
   "source": [
    "## Objective"
   ]
  },
  {
   "cell_type": "markdown",
   "id": "0481d9af",
   "metadata": {},
   "source": [
    "## Experimental Method"
   ]
  },
  {
   "cell_type": "markdown",
   "id": "79e733d8",
   "metadata": {},
   "source": [
    "### Experimental set-up"
   ]
  },
  {
   "cell_type": "markdown",
   "id": "9c2ce777",
   "metadata": {},
   "source": [
    "### Measurements"
   ]
  },
  {
   "cell_type": "markdown",
   "id": "5844bada",
   "metadata": {},
   "source": [
    "## Data analysis"
   ]
  },
  {
   "cell_type": "markdown",
   "id": "e8b4bf16",
   "metadata": {},
   "source": [
    "# Investigation of strain birefringence"
   ]
  },
  {
   "cell_type": "markdown",
   "id": "65e1aa19",
   "metadata": {},
   "source": [
    "## Objective"
   ]
  },
  {
   "cell_type": "markdown",
   "id": "003b0bce",
   "metadata": {},
   "source": [
    "## Experimental Method"
   ]
  },
  {
   "cell_type": "markdown",
   "id": "5b29f5ed",
   "metadata": {},
   "source": [
    "### Experimental set-up"
   ]
  },
  {
   "cell_type": "markdown",
   "id": "b7608af3",
   "metadata": {},
   "source": [
    "### Measurements"
   ]
  },
  {
   "cell_type": "markdown",
   "id": "08830a69",
   "metadata": {},
   "source": [
    "## Data analysis"
   ]
  },
  {
   "cell_type": "code",
   "execution_count": null,
   "id": "87c0be6d",
   "metadata": {},
   "outputs": [],
   "source": []
  },
  {
   "cell_type": "markdown",
   "id": "4e66c5cb",
   "metadata": {},
   "source": [
    "add aims etc"
   ]
  }
 ],
 "metadata": {
  "kernelspec": {
   "display_name": "Default",
   "language": "python",
   "name": "python3"
  },
  "language_info": {
   "codemirror_mode": {
    "name": "ipython",
    "version": 3
   },
   "file_extension": ".py",
   "mimetype": "text/x-python",
   "name": "python",
   "nbconvert_exporter": "python",
   "pygments_lexer": "ipython3",
   "version": "3.8.8"
  }
 },
 "nbformat": 4,
 "nbformat_minor": 5
}
