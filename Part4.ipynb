{
 "cells": [
  {
   "cell_type": "code",
   "execution_count": 15,
   "id": "2ec8cf5b",
   "metadata": {},
   "outputs": [],
   "source": [
    "import numpy as np\n",
    "from scipy import stats"
   ]
  },
  {
   "cell_type": "markdown",
   "id": "5914d095",
   "metadata": {},
   "source": [
    "# Objective"
   ]
  },
  {
   "cell_type": "markdown",
   "id": "07ff5939",
   "metadata": {},
   "source": [
    "# Introduction to Stokes' Parameters"
   ]
  },
  {
   "cell_type": "markdown",
   "id": "f1e49b20",
   "metadata": {},
   "source": [
    "## Objective"
   ]
  },
  {
   "cell_type": "markdown",
   "id": "b9977541",
   "metadata": {},
   "source": [
    "## Experimental Method"
   ]
  },
  {
   "cell_type": "code",
   "execution_count": null,
   "id": "51945faa",
   "metadata": {},
   "outputs": [],
   "source": []
  },
  {
   "cell_type": "markdown",
   "id": "75e2acc5",
   "metadata": {},
   "source": [
    "### Experimental set-up"
   ]
  },
  {
   "cell_type": "markdown",
   "id": "1e84bceb",
   "metadata": {},
   "source": [
    "We want to study the effect of a 1/4 WP on an incoming SOP. To do this, we want to calculate Stokes' parameters associated with the outgoing beam using the power outputs $P(0,0)$, $P(0,0)$, $P(90,0)$, $P(45,0)$, $P(-45,0)$, $P(-45,-90)$ where $\\psi$ in $P(\\psi, \\epsilon)$ is the angle of the analyser and $\\epsilon$ the phase shift of the $E_y$ field of the SOP after leaving the 1/4 WP. For $\\epsilon = 0$, this means we need the polariser to polarise the laser beam, the 1/2 WP to set the initial angle of the SOP, the 1/4 WP under study and the analyser. To achieve $\\epsilon = -90^ \\circ$, we have to add another 1/4 WP with its fast axis aligned with the x-axis, which comes back to the properties of the 1/4 WP."
   ]
  },
  {
   "cell_type": "markdown",
   "id": "ce204a89",
   "metadata": {},
   "source": [
    "### Measurements\n",
    "\n",
    "We choose SOPs of .... and get:\n",
    "\n",
    "ADD TABLE DATA"
   ]
  },
  {
   "cell_type": "markdown",
   "id": "51b1c074",
   "metadata": {},
   "source": [
    "## Data analysis\n",
    "\n",
    "We first want to calculate Stokes' parameters, ie eauqtions (9)-(12) in the lab script, knowing that\n",
    "\n",
    "$$\\begin{align}\n",
    "S_0 &= P(0,0) + P(90,0) \\\\\n",
    "S_1 &= P(0,0) - P(90,0) \\\\\n",
    "S_2 &= P(45,0) - P(-45,0) \\\\\n",
    "S_3 &= P(45,-90) - P(-45,-90) \\\\\n",
    "\\end{align}$$\n",
    "\n",
    "We start by the 45&deg; SOP incident on the 1/4 WP understudy"
   ]
  },
  {
   "cell_type": "code",
   "execution_count": 7,
   "id": "3df40213",
   "metadata": {},
   "outputs": [],
   "source": [
    "#subtract background\n",
    "#measurement - background\n",
    "#also do mean measurements and stuff if applicable\n",
    "\n",
    "#now calculate Stoke's parameters\n",
    "S0 = #P(0,0) + P(90, 0)\n",
    "S1 = #P(0,0) - P(90, 0)\n",
    "S2 = #P(45,0) - P(-45, 0)\n",
    "S3 = #P(45,-90) - P(-45, -90)"
   ]
  },
  {
   "cell_type": "markdown",
   "id": "4d800b08",
   "metadata": {},
   "source": [
    "Now we want to normalise these results by dividing by $S_0$ to get the corresponding normalised values $s_0, s_1, s_2$ and $s_3$ such that $s_0 = 1$, so that the Poincaré sphere has a radius 1 (every point on the surface of the sphere represent a unique SOP, and is therefore a useful geometric visualisation, see figure 12 in the lab script)."
   ]
  },
  {
   "cell_type": "code",
   "execution_count": 8,
   "id": "f84a384b",
   "metadata": {},
   "outputs": [],
   "source": [
    "s0, s1, s2, s3 = [S0, S1, S2, S3]*np.ones_like(4)*(1/S0)"
   ]
  },
  {
   "cell_type": "markdown",
   "id": "c2f62076",
   "metadata": {},
   "source": [
    "SHOULD FIND FOR A 45 DEG ANGLE:\n",
    "Here, we see that $s_0 = 1 \\approx s_3$ and $s_1 \\approx s_2 \\approx 0$. This means the SOP is at the 'north pole' of the sphere, and so $\\delta = 90^\\circ$, meaning this is right circularly polarised light. This agrees with the fact that 1/4 WP turn a 45° SOP into right circularly polarised light. This also means we would expect $a=b$, $\\psi = 0$ and $\\chi = 45^\\circ$.\n",
    "\n",
    "From the Poincare sphere in figure 12, we see that\n",
    "$$\\tan(2\\psi) = s_2/s_1$$\n",
    "\n",
    "and\n",
    "\n",
    "$$\\sin(2\\chi) = s_3/s_0$$\n",
    "\n",
    "We then need to take the inverse functions and divide by two to find $\\psi$ and $\\chi$.\n",
    "\n",
    "We also know that\n",
    "\n",
    "$$\\tan(2\\delta) = s_3/s_2$$\n",
    "\n",
    "which was derived in the lab script.\n",
    "\n",
    "For the tan function, we need to use the `np.arctan2()` to make sure our angle is in the right quadrant."
   ]
  },
  {
   "cell_type": "code",
   "execution_count": 9,
   "id": "1400ee5a",
   "metadata": {},
   "outputs": [
    {
     "name": "stdout",
     "output_type": "stream",
     "text": [
      "We then have psi = 0.0, chi = 45.0 and delta = 90.0\n"
     ]
    }
   ],
   "source": [
    "psi   = np.arctan2(s2, s1)/2\n",
    "chi   = np.arcsin(s3/s0) /2\n",
    "delta = np.arctan2(s3, s2)\n",
    "\n",
    "print('We then have psi = {0}, chi = {1} and delta = {2}'.format(psi*180/np.pi, chi*180/np.pi, delta*180/np.pi)) #converting to degrees"
   ]
  },
  {
   "cell_type": "markdown",
   "id": "e3b5abbc",
   "metadata": {},
   "source": [
    "Further, from equation (7) in the lab script,\n",
    "\n",
    "$$E^2_{0x} + E^2_{0y} = a^2 + b^2$$\n",
    "\n",
    "and $\\chi$ is defined by\n",
    "\n",
    "$$\\tan(\\chi) = b/a$$\n",
    "\n",
    "As $E^2_{0x} + E^2_{0y} = 2s_0$ (eq 13), we finally have\n",
    "\n",
    "$$\\begin{align}\n",
    "a &= \\sqrt{\\frac{2s_0}{\\tan(\\chi)}} \\\\\n",
    "b &= a\\tan(\\chi) = \\sqrt{2s_0\\tan(\\chi)}\n",
    "\\end{align}$$\n",
    "\n",
    "We can replace $s_0$ by 1, as it is defined like that by the normalisation."
   ]
  },
  {
   "cell_type": "code",
   "execution_count": 14,
   "id": "ab2e59b9",
   "metadata": {},
   "outputs": [
    {
     "name": "stdout",
     "output_type": "stream",
     "text": [
      "We then have that a = 1.4142135623730951 and b = 1.414213562373095\n"
     ]
    }
   ],
   "source": [
    "a = np.sqrt(abs(2*1/np.tan(chi)))\n",
    "b = np.sqrt(abs(2*1*np.tan(chi)))\n",
    "\n",
    "print('We then have that a = {0} and b = {1}'.format(a,b))"
   ]
  },
  {
   "cell_type": "markdown",
   "id": "fb92ca29",
   "metadata": {},
   "source": [
    "This is for whoever runs this code. To avoid coppying and pasting for each SOP, we can first define a series of functions to calculate Stokes' parameters, the angles on the Poincare sphere and the axes of the SOP:"
   ]
  },
  {
   "cell_type": "code",
   "execution_count": 11,
   "id": "b1ab9ccd",
   "metadata": {},
   "outputs": [
    {
     "ename": "SyntaxError",
     "evalue": "invalid syntax (2979702625.py, line 1)",
     "output_type": "error",
     "traceback": [
      "\u001b[0;36m  File \u001b[0;32m\"/tmp/ipykernel_2898220/2979702625.py\"\u001b[0;36m, line \u001b[0;32m1\u001b[0m\n\u001b[0;31m    S0 = #P(0,0) array + P(90, 0) array\u001b[0m\n\u001b[0m         ^\u001b[0m\n\u001b[0;31mSyntaxError\u001b[0m\u001b[0;31m:\u001b[0m invalid syntax\n"
     ]
    }
   ],
   "source": [
    "def Stokes_parameters(P0_0, P90_0, P45_0, Pm45_0, P45_m90, Pm45_m90):\n",
    "    \"Inputs are powers needed to calculate Stokes parameters, output is Stokes parameters\"\n",
    "         #P0_0 is P(0,0), P90_0 is P(90, 0), P45_0 is P(45, 0), Pm45_0 is P(-45, 0), P45_m90 is P(45, -90) and Pm45_m90 is P(-45, -90)\n",
    "    S0 = P0_0    + P90_0\n",
    "    S1 = P0_0    - P90_0\n",
    "    S2 = P45_0   - Pm45_0\n",
    "    S3 = P45_m90 - Pm45_m90\n",
    "    return(S0, S1, S2, S3)\n",
    "\n",
    "def angles_from_stokes(S0, S1, S2, S3):\n",
    "    \"normalises stokes parameters and calculates angles psi and chi on the Poincare sphere, and angle delta\"\n",
    "    \n",
    "    #normalising stokes parameters\n",
    "    s0, s1, s2, s3 = [S0, S1, S2, S3]*np.ones_like(4)*(1/S0)\n",
    "    \n",
    "    #angle calculation\n",
    "    psi   = np.arctan2(s2, s1)/2\n",
    "    chi   = np.arcsin(s3/s0) /2\n",
    "    delta = np.arctan2(s3, s2)\n",
    "    \n",
    "    return(psi, chi, delta)\n",
    "\n",
    "def SOP_axes(chi):\n",
    "    \"calculates the semi-major and semi-minor axes, a and b, of the SOP from angle chi on the Poincare sphere\"\n",
    "    a = np.sqrt(abs(2*1/np.tan(chi)))\n",
    "    b = np.sqrt(abs(2*1*np.tan(chi)))\n",
    "    return(a, b)"
   ]
  },
  {
   "cell_type": "markdown",
   "id": "0b688015",
   "metadata": {},
   "source": [
    "We can then calculate $\\delta$, $\\phi$, $\\chi$, $a$ and $b$ for our 45 deg initial SOP by looping over our set of measurements, taking the average and calculating the standard error on the mean.\n",
    "\n",
    "The lab script also asked for $a/b$ and $E_x/E_y$. The latter will be the square root of $P(0, 0)/P(90, 0)$. The error on first one is easily calculated by error propagation:\n",
    "\n",
    "$$\\sigma(b/a) = \\frac{b}{a}\\sqrt{\\left(\\frac{\\sigma(a)}{a} \\right)^2 + \\left(\\frac{\\sigma(b)}{b} \\right)^2}$$\n",
    "\n",
    "The second one is a bit more complicated, but still doable:\n",
    "\n",
    "$$\\sigma(E_x/E_y) = \\frac{1}{2} \\left(\\frac{E_x}{E_y}\\right)^{-1/2} \\sigma(P(0,0)/P(90,0))$$\n",
    "\n",
    "as $E_x/E_y = [P(0,0)/P(90,0)]^{1/2}$.\n",
    "\n",
    "The errors $\\sigma(a)$, $\\sigma(b)$ can $\\sigma(P(0,0)/P(90,0))$ be calculated by taking the standard error on the mean for each of these values."
   ]
  },
  {
   "cell_type": "code",
   "execution_count": null,
   "id": "ce00493e",
   "metadata": {},
   "outputs": [],
   "source": [
    "background = \n",
    "\n",
    "#load data for 45 deg angle\n",
    "P45 = np.loadtxt('???')\n",
    "\n",
    "P45b = P45 - np.ones_like(??)*background #subtract background\n",
    "\n",
    "#Stokes parameters for 45 deg angle\n",
    "S0, S1, S2, S3 = Stokes_parameters(P45b[0], P45b[1], P45b[2], P45b[3], P45b[4], P45b[5])\n",
    "\n",
    "print()\n",
    "\n",
    "#calculate angles\n",
    "psi, chi, delta = angles_from_stokes(S0, S1, S2, S3)\n",
    "\n",
    "print()\n",
    "\n",
    "#calculate semi-major and semi-minor axes\n",
    "a, b = SOP_axes(chi)\n",
    "\n",
    "print()\n",
    "\n",
    "#calculating averages\n",
    "\n",
    "psi_av   = np.average(psi)\n",
    "chi_av   = np.average(chi)\n",
    "delta_av = np.average(delta)\n",
    "a_av     = np.average(a)\n",
    "b_av     = np.average(b)\n",
    "\n",
    "#corresponding standard errors\n",
    "\n",
    "psi_e   = stats.sem(psi)\n",
    "chi_e   = stats.sem(chi)\n",
    "delta_e = stats.sem(delta)\n",
    "a_e     = stats.sem(a)\n",
    "b_e     = stats.sem(b)\n",
    "\n",
    "print()\n",
    "\n",
    "#also wanted b/a\n",
    "\n",
    "a_b  = a_av/b_av\n",
    "\n",
    "#error from error propagation will be\n",
    "\n",
    "a_be = a_b * np.sqrt((a_e/a_av)**2+(b_e/b_av)**2)\n",
    "\n",
    "print()\n",
    "\n",
    "#and finally want E_x/E_y\n",
    "\n",
    "Pxy_av = np.average(P45b[0]/P45b[1])    #first calculate the average power output between x and y axis\n",
    "Pxy_e  = stats.sem(P45b[0]/P45b[1])     #calculate error on the average\n",
    "\n",
    "E_xy   = np.sqrt(Pxy_av)              #calculate electric field component\n",
    "E_xye  = 0.5*E_xy**(-0.5)*Pxy_e       #calculate error by error propagation\n",
    "\n",
    "print()"
   ]
  },
  {
   "cell_type": "markdown",
   "id": "0119db52",
   "metadata": {},
   "source": [
    "We can do the same for the other angles (I did the same code but in a different notebook to save some space), and tabulate the data:"
   ]
  },
  {
   "cell_type": "markdown",
   "id": "905eeb93",
   "metadata": {},
   "source": [
    "You can then tabulate the values as described in the lab script."
   ]
  },
  {
   "cell_type": "markdown",
   "id": "8435918b",
   "metadata": {},
   "source": [
    "# Using Stokes' Parameters"
   ]
  },
  {
   "cell_type": "markdown",
   "id": "88767c77",
   "metadata": {},
   "source": [
    "## Objective"
   ]
  },
  {
   "cell_type": "markdown",
   "id": "fb687f08",
   "metadata": {},
   "source": [
    "## Experimental Method"
   ]
  },
  {
   "cell_type": "markdown",
   "id": "05c80410",
   "metadata": {},
   "source": [
    "### Experimental set-up\n",
    "\n",
    "In this part, we want to study an arbitrary WP. This means we just need to replace the 1/4 WP we studied in the previous section by this arbitrary plate. This arbitrary plate needs to have it's scale set up such that we have maximum transmission at 0°. This was done in the same way as in the previous sections."
   ]
  },
  {
   "cell_type": "markdown",
   "id": "2ed6e4fd",
   "metadata": {},
   "source": [
    "### Measurements\n",
    "\n",
    "Firstly, this WP has two transmission axes, which are parallel to eachother (one at 0°, the other at 90°).\n",
    "\n",
    "Further, by rotating the analyser, we find that for the first transmission axis (0°) the max and min transmissions are\n",
    "\n",
    "(These are not background subtracted.)\n",
    "\n",
    "**max transmission** at 0&deg; (880 counts), 180&deg; (875 counts)\n",
    "\n",
    "**min transmission** at 90&deg; (9 counts), 270&deg; (10 counts)\n",
    "\n",
    "As the background was 3 when these measurements were made, this SOP may not be exactly linearly polarised, as the minimum transmission is not at 0.\n",
    "\n",
    "Further, we see here that the maximum and minimum transmissions are respectively at $E_{0x}$ and $E_{0y}$ which means, with reference to figure 8 in the lab script, we would expect $\\frac{b}{a} = \\frac{E_0x}{E_0y} = \\sqrt{\\frac{P(0,0)}{P(90, 0)}}$, which are, respectively, the transmissions at 0 and 90°. This means we would expect\n",
    "\n",
    "$$\\frac{b}{a} = \\frac{880-3}{9-3} = 146$$\n",
    "\n",
    "where we have subtracted the background of 3. As $\\tan \\chi = \\frac{b}{a}$,\n",
    "\n",
    "$$\\chi = 89.6^ \\circ$$\n",
    "\n",
    "where we made sure we were in the right quadrant here. This is very short, so this might actually be linearly polarised light and where we introduced an error somehow. TO CHECK\n",
    "\n",
    "Now, we want to measure Stokes' parameters, as we did in the previous section. To do this, we measure $P(0,0)$, $P(0,0)$, $P(90,0)$, $P(45,0)$, $P(-45,0)$, $P(-45,-90)$ for incident SOPs of $\\pm 45^\\circ$ in the same way as the in the previous section. We then find:"
   ]
  },
  {
   "cell_type": "markdown",
   "id": "aee762f3",
   "metadata": {},
   "source": [
    "## Data analysis\n",
    "\n",
    "We calculate Stokes' parameters in the same way as the previous section, and find"
   ]
  },
  {
   "cell_type": "code",
   "execution_count": null,
   "id": "d7444612",
   "metadata": {},
   "outputs": [],
   "source": [
    "#subtract background\n",
    "#measurement - background\n",
    "#also do mean measurements and stuff if applicable\n",
    "\n",
    "#now calculate Stoke's parameters\n",
    "S0 = #P(0,0) + P(90, 0)\n",
    "S1 = #P(0,0) - P(90, 0)\n",
    "S2 = #P(45,0) - P(-45, 0)\n",
    "S3 = #P(45,-90) - P(-45, -90)\n",
    "\n",
    "#print etc"
   ]
  },
  {
   "cell_type": "markdown",
   "id": "bbaa0182",
   "metadata": {},
   "source": [
    "Which we can then use to calculate $\\chi$, $\\psi$, $\\delta$, $a$ and $b$."
   ]
  },
  {
   "cell_type": "code",
   "execution_count": null,
   "id": "7c2eaaf4",
   "metadata": {},
   "outputs": [],
   "source": [
    "#define the arrays you will need to append\n",
    "array_a = []\n",
    "array_b = []\n",
    "array_chi = []\n",
    "array_psi = []\n",
    "array_delta = []\n",
    "\n",
    "for i, S in enumerate(S0):\n",
    "    s0, s1, s2, s3 = [S0[i], S1[i], S2[i], S3[i]]*(1/S0[i])\n",
    "    # you can print this to check its consistent\n",
    "    \n",
    "    psi   = np.arctan2(s2, s1)/2\n",
    "    chi   = np.arcsin(s3/s0) /2\n",
    "    delta = np.arctan2(s3, s2)\n",
    "    print('We then have psi = {0}, chi = {1} and delta = {2} for SOP of angle (add the angle of the SOP here using format)'.format(psi, chi, delta))\n",
    "    \n",
    "    array_psi.append(psi)\n",
    "    array_chi.append(chi)\n",
    "    array_delta.append(delta)\n",
    "    \n",
    "    a = np.sqrt(2*s0/np.tan(chi))\n",
    "    b = np.sqrt(2*s0*np.tan(chi))\n",
    "\n",
    "    print('We then have that a = {0} and b = {1} for SOP of angle (add the angle of the SOP here using format)'.format(a,b))\n",
    "    \n",
    "    array_a.append(a)\n",
    "    array_b.append(b)"
   ]
  },
  {
   "cell_type": "markdown",
   "id": "324aed9b",
   "metadata": {},
   "source": [
    "Which we can tabulate:"
   ]
  },
  {
   "cell_type": "markdown",
   "id": "576a8caa",
   "metadata": {},
   "source": [
    "# Investigation of strain birefringence"
   ]
  },
  {
   "cell_type": "markdown",
   "id": "5a7fd90c",
   "metadata": {},
   "source": [
    "## Objective"
   ]
  },
  {
   "cell_type": "markdown",
   "id": "2d82e6b8",
   "metadata": {},
   "source": [
    "## Experimental Method"
   ]
  },
  {
   "cell_type": "markdown",
   "id": "e7210213",
   "metadata": {},
   "source": [
    "### Experimental set-up\n",
    "\n",
    "For this last part, we take away all the waveplates to only keep the polariser and analyser. We then add the Perspex place and adjust it until there's minimum transmission "
   ]
  },
  {
   "cell_type": "markdown",
   "id": "106f30b7",
   "metadata": {},
   "source": [
    "### Measurements"
   ]
  },
  {
   "cell_type": "markdown",
   "id": "4f645925",
   "metadata": {},
   "source": [
    "## Data analysis"
   ]
  },
  {
   "cell_type": "code",
   "execution_count": null,
   "id": "f172178a",
   "metadata": {},
   "outputs": [],
   "source": []
  },
  {
   "cell_type": "markdown",
   "id": "b04d069f",
   "metadata": {},
   "source": [
    "# Discussion\n",
    "\n"
   ]
  }
 ],
 "metadata": {
  "kernelspec": {
   "display_name": "Default",
   "language": "python",
   "name": "python3"
  },
  "language_info": {
   "codemirror_mode": {
    "name": "ipython",
    "version": 3
   },
   "file_extension": ".py",
   "mimetype": "text/x-python",
   "name": "python",
   "nbconvert_exporter": "python",
   "pygments_lexer": "ipython3",
   "version": "3.8.6"
  }
 },
 "nbformat": 4,
 "nbformat_minor": 5
}
