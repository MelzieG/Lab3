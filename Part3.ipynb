{
 "cells": [
  {
   "cell_type": "code",
   "execution_count": 2,
   "id": "6bfa71a5",
   "metadata": {},
   "outputs": [],
   "source": [
    "import numpy as np\n",
    "from scipy import stats"
   ]
  },
  {
   "cell_type": "markdown",
   "id": "1bdf4360",
   "metadata": {},
   "source": [
    "# Aims\n",
    "\n",
    "Study of quarter waveplates (1/4 WP)"
   ]
  },
  {
   "cell_type": "markdown",
   "id": "9c9e5eb9",
   "metadata": {},
   "source": [
    "# Investigation of a 1/4 WP"
   ]
  },
  {
   "cell_type": "markdown",
   "id": "cf4c5766",
   "metadata": {},
   "source": [
    "## Aims\n",
    "\n",
    "Investigate a 1/4 WP"
   ]
  },
  {
   "cell_type": "markdown",
   "id": "1079ea8c",
   "metadata": {},
   "source": [
    "## Experimental method"
   ]
  },
  {
   "cell_type": "markdown",
   "id": "c5316561",
   "metadata": {},
   "source": [
    "### Experimental set-up\n",
    "\n",
    "1/4 WP IS MADE FOR THIS LASER! WOULDN'T WORK OTHERWISE!\n",
    "\n",
    "To study the effect of the reference 1/4 WP on an incoming SOP, we put it between the 1/2 WP and the analyser. This will allow us to study the effect of a 1/4 WP on any SOP created by the 1/2 WP as described in the previous section. We align the REF 1/4 WP such that we get maximum transmission at 0&deg;. There were not many adjustments made as the fast axis was already (nearly) aligned."
   ]
  },
  {
   "cell_type": "markdown",
   "id": "7af085aa",
   "metadata": {},
   "source": [
    "### Measurements\n",
    "\n",
    "- identify position of 1/4 WP's slow axis\n",
    "- Fixed angle for 1/4 WP (fast axis), 1/2 WP and polariser => rotate analyser to find min and max transmission\n",
    "- Fixed angle for 1/2 WP, polariser and 1/4 WP (slow axis) => rotate analyser to find min and max transmission\n",
    "\n",
    "Background is now 3 counts. It is less than earlier today because it is now dark outside.\n",
    "\n",
    "We first notice that, when we rotate the 1/4 WP, we get maximal output powers at 0, 90, 180, and 270&deg;. This reveals that the two axes of transmission are at 90&deg; COMMENT ON FAST + SLOW AXIS DIFFERENCE!!!\n",
    "\n",
    "We first want to know the effect of a 1/4 WP aligned along its fast axis on a 0&deg; SOP. We do this by setting the 1/2 WP to 0&deg; and rotating the analyser.\n",
    "\n",
    "(These are not background subtracted.)\n",
    "\n",
    "**max transmission** at 0&deg; (855 counts), 180&deg; (853 counts)\n",
    "\n",
    "**min transmission** at 90&deg; (4 counts), 270&deg; (3 counts)\n",
    "\n",
    "We see here, that the 1/4 WP seemed to have had no effect on the SOP, as it is still horizontally polarised. Note that some of the light was still absorbed by the waveplate, as the maximum transmission power is diminished. WHY??? EFFECT OF FAST AXIS!!!\n",
    "\n",
    "We now want to know the effect of a 1/4 WP aligned along its slow axis on a 0&deg; SOP (ie the 1/4 WP is rotated by 90 degrees). We do this by setting the 1/2 WP to 0&deg; so that the SOP incident on the 1/4 WP is at 0&deg; to the slow axis, and rotating the analyser.\n",
    "\n",
    "(These are not background subtracted.)\n",
    "\n",
    "**max transmission** at 0&deg; (859 counts), 180&deg; (856 counts)\n",
    "\n",
    "**min transmission** at 90&deg; (3 counts), 270&deg; (3 counts)\n",
    "\n",
    "This means that whether the incident SOP is aligned with the slow or fast axis has no effect on it. WHY??? \n",
    "\n",
    "Now we can take the average of the powers, as we already did previously, and find"
   ]
  },
  {
   "cell_type": "code",
   "execution_count": 3,
   "id": "f04bd4d8",
   "metadata": {},
   "outputs": [
    {
     "name": "stdout",
     "output_type": "stream",
     "text": [
      "the average power output in the first axis is 851 pm 1 counts\n",
      "the average power output in the second axis is 854 pm 1 counts\n"
     ]
    }
   ],
   "source": [
    "#calculating the power averages for each axes\n",
    "one_av  = np.average([855-3, 853-3]) #first axis, background subtracted\n",
    "two_av  = np.average([859-3, 856-3]) #second axis, background subtracted\n",
    "\n",
    "#calculating the standard error on the mean for these\n",
    "one_ave = stats.sem([855-3, 853-3])  #first axis\n",
    "two_ave = stats.sem([859-3, 856-3])  #second axis\n",
    "\n",
    "print('the average power output in the first axis is {0:.0f} pm {1:.0f} counts'.format(one_av, one_ave))\n",
    "print('the average power output in the second axis is {0:.0f} pm {1:.0f} counts'.format(two_av, two_ave))"
   ]
  },
  {
   "cell_type": "markdown",
   "id": "ecadb7ae",
   "metadata": {},
   "source": [
    "We can see the ratio between the two will be very close to one, but not exactly, and their error bounds do not overlap. The two axes transmit a slightly different amount of light, but this is very small."
   ]
  },
  {
   "cell_type": "markdown",
   "id": "7ef4ad34",
   "metadata": {},
   "source": [
    "## Data analysis"
   ]
  },
  {
   "cell_type": "markdown",
   "id": "b9bf7e99",
   "metadata": {},
   "source": [
    "## Results"
   ]
  },
  {
   "cell_type": "markdown",
   "id": "3e63f325",
   "metadata": {},
   "source": [
    "# Creation of 45&deg; SOP"
   ]
  },
  {
   "cell_type": "markdown",
   "id": "53d3c488",
   "metadata": {},
   "source": [
    "## Aims"
   ]
  },
  {
   "cell_type": "markdown",
   "id": "eecd3cae",
   "metadata": {},
   "source": [
    "## Experimental method"
   ]
  },
  {
   "cell_type": "markdown",
   "id": "eafcc6a9",
   "metadata": {},
   "source": [
    "### Experimental set-up\n",
    "\n",
    "- description of apparatus\n",
    "- suggest way of checking incident SOP is exactly at 45&deg; when incident on 1/4 WP + suitability of method when compared to the one used previously\n",
    "\n",
    "The apparatus is the same as in the previous subsection. Here, we want to create circularly polarised light. To do this, we need a 45&deg; linear SOP incident on the 1/4 WP. Because the 1/2 WP shifts the SOP by twice the angle of the 1/2 WP, we want it to be at 22.5&deg; The best way to achieve this is to set the angle to about 22&deg;, and then rotate the analyser, and adjust the 1/2 WP until we get the same power output at every angle of analyser (want the light to be circularly polarised, WHY and HOW???). The best I could do was power changing from 428 and 433, which would mean the elliptically polarised light had an eccentricity of 0.15. A circle has an eccentricity of 0.\n",
    "\n",
    "SUITABILITY COMPARED WITH PREVIOUS??? PRECISE TO LESS THAN A DEGREE!!! ALLOWS GREAT PRECISION"
   ]
  },
  {
   "cell_type": "markdown",
   "id": "09f5b872",
   "metadata": {},
   "source": [
    "### Measurements\n",
    "\n",
    "The power output does not change (or minimally), because the light is circularly polarised (same power in every direction), as expected. It changes between 428 and 433 MORE EXPLANATION"
   ]
  },
  {
   "cell_type": "markdown",
   "id": "b77d179a",
   "metadata": {},
   "source": [
    "## Data Analysis"
   ]
  },
  {
   "cell_type": "markdown",
   "id": "181dbe63",
   "metadata": {},
   "source": [
    "## Results"
   ]
  },
  {
   "cell_type": "markdown",
   "id": "d1ff2a41",
   "metadata": {},
   "source": [
    "# Optional part (NOT DONE YET)"
   ]
  },
  {
   "cell_type": "markdown",
   "id": "7d8e5903",
   "metadata": {},
   "source": [
    "## Aims"
   ]
  },
  {
   "cell_type": "markdown",
   "id": "6f4100ea",
   "metadata": {},
   "source": [
    "## Experimental method"
   ]
  },
  {
   "cell_type": "markdown",
   "id": "2e89daf2",
   "metadata": {},
   "source": [
    "### Set-up\n",
    "\n",
    "Add 1 quarter waveplate"
   ]
  },
  {
   "cell_type": "markdown",
   "id": "862b804f",
   "metadata": {},
   "source": [
    "### Measurements\n",
    "\n",
    "- Fixed analyser, polariser, 1/2 WP at 0&deg;: sketch phase of output of both 1/4 WP for every combination of angles 0, 10, 20, 30 and 45&deg;\n",
    "- conclude"
   ]
  },
  {
   "cell_type": "markdown",
   "id": "f1b5b937",
   "metadata": {},
   "source": [
    "## Results"
   ]
  },
  {
   "cell_type": "markdown",
   "id": "e8e3d498",
   "metadata": {},
   "source": []
  },
  {
   "cell_type": "markdown",
   "id": "dc1843b7",
   "metadata": {},
   "source": []
  },
  {
   "cell_type": "code",
   "execution_count": null,
   "id": "aa5869e7",
   "metadata": {},
   "outputs": [],
   "source": []
  },
  {
   "cell_type": "markdown",
   "id": "b3d4b1ec",
   "metadata": {},
   "source": [
    "# Investigation of 2 1/4 WP in series"
   ]
  },
  {
   "cell_type": "markdown",
   "id": "0af759bd",
   "metadata": {},
   "source": [
    "## Aims"
   ]
  },
  {
   "cell_type": "markdown",
   "id": "3972e4b9",
   "metadata": {},
   "source": [
    "## Experimental method"
   ]
  },
  {
   "cell_type": "markdown",
   "id": "3900450e",
   "metadata": {},
   "source": [
    "### Experimental set-up\n",
    "\n",
    "We add a second 1/4 WP to our apparatus between the analyser and the REF 1/4 WP. They must be aligned along their fast axis at 0&deg;, which should already have been the case, not counting a few tweaks. However, the two quarter wave plates were somehow not aligned along the same axis when at 0&deg; (the slow axis of one was aligned with the fast axis of the other), contrary to what was in the lab script, which created great confusion with the demonstrator, and they had to be realigned. This may cause our results in section 5.2.3 in the lab script to be different than what the demonstrators expect. WHY???"
   ]
  },
  {
   "cell_type": "markdown",
   "id": "40bd24a1",
   "metadata": {},
   "source": [
    "### Measurements\n",
    "\n",
    "Background is 3.\n",
    "\n",
    "We first want to see the effect of two 1/4 WP in series on an incident linear SOP with their fast axes aligned. To do this, we create SOPs at different angles using the 1/2 WP. We then get:\n",
    "\n",
    "1/2 WP angle (&deg;) | angle of the SOP incident on the first 1/4 WP (&deg;) | analyser angles for max transmission (&deg;) | max power in the same order (counts) | analyser angles for min transmission (&deg;) | min power in the same order (counts)\n",
    ":---:|:---:|:--------:|:--------:|:--------:|:-----:\n",
    "22.5 | 45  | 135, 315 | 818, 815 | 45,  225 | 3, 3\n",
    "30   | 60  | 120, 300 | 813, 814 | 30, 210  | 2, 3\n",
    "45   | 90  | 90,  270 | 802, 801 | 0, 180   | 3, 2\n",
    "60   | 120 | 60,  240 | 807, 801 | 150, 330 | 3, 3\n",
    "90   | 180 | 0, 180   | 809, 808 | 90,  270 | 3, 3\n",
    "0    | 0   | 0, 180   | 819, 812 | 90,  270 | 3, 3\n",
    "\n",
    "Note that these are not background subtracted, and that the 22.5\\deg; angle was obtained using the same method as described above.\n",
    "\n",
    "We see here that the two 1/4 WPs in series have the effect of one 1/2 WP, ie the initial and final SOPs are mirror images of eachother: the initial SOP was flipped along the x-axis (as, in general, $-\\theta = 360-\\theta$) . WHY PHYSICALLY!!!\n",
    "\n",
    "Now, we take the exact same measurements, but we shift one of the 1/4 WPs by 90&deg; so that the slow axis of one is aligned with the fast axis of the other.\n",
    "\n",
    "1/2 WP angle (&deg;) | angle of the SOP incident on the first 1/4 WP (&deg;) | analyser angles for max transmission (&deg;) | max power in the same order (counts) | analyser angles for min transmission (&deg;) | min power in the same order (counts)\n",
    ":---:|:---:|:--------:|:--------:|:--------:|:-----:\n",
    "22.5 | 45  | 45, 225  | 829, 831 | 135, 315 | 3, 3\n",
    "30   | 60  | 60, 240  | 828, 826 | 150, 330 | 3, 3\n",
    "45   | 90  | 90, 270  | 825, 823 | 0, 180   | 4, 4\n",
    "60   | 120 | 120, 300 | 820, 824 | 30, 210  | 3, 3\n",
    "90   | 180 | 0, 180   | 825, 826 | 90,  270 | 3, 3\n",
    "0    | 0   | 0, 180   | 840, 835 | 90,  270 | 3, 3\n",
    "\n",
    "Here, we see that when the slow axis of one 1/4 WP is aligned with the fast axis of the other, they cancel out, and so we the SOP of the beam remains the same. WHY PHYSICALLY???\n",
    "\n",
    "\n",
    "NOTE seems to be an assymetry in the power maxima. perhaps 1/4 WP has different power outputs depending on its axis. WHY???\n",
    "=> Analysis difference in power outputs"
   ]
  },
  {
   "cell_type": "markdown",
   "id": "09a59297",
   "metadata": {},
   "source": [
    "## Data analysis"
   ]
  },
  {
   "cell_type": "markdown",
   "id": "026cc754",
   "metadata": {},
   "source": [
    "## Results"
   ]
  }
 ],
 "metadata": {
  "kernelspec": {
   "display_name": "Default",
   "language": "python",
   "name": "python3"
  },
  "language_info": {
   "codemirror_mode": {
    "name": "ipython",
    "version": 3
   },
   "file_extension": ".py",
   "mimetype": "text/x-python",
   "name": "python",
   "nbconvert_exporter": "python",
   "pygments_lexer": "ipython3",
   "version": "3.8.8"
  }
 },
 "nbformat": 4,
 "nbformat_minor": 5
}
