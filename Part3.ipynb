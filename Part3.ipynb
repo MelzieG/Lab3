{
 "cells": [
  {
   "cell_type": "code",
   "execution_count": 1,
   "id": "1774a2e1",
   "metadata": {},
   "outputs": [],
   "source": [
    "import numpy as np\n",
    "from scipy import stats"
   ]
  },
  {
   "cell_type": "markdown",
   "id": "7b70f5b0",
   "metadata": {},
   "source": [
    "# Objective\n",
    "\n",
    "The objective of the following subsections is to study the effect of quarter-wave plates on an initial SOP."
   ]
  },
  {
   "cell_type": "markdown",
   "id": "a7babe66",
   "metadata": {},
   "source": [
    "# Investigation of a 1/4 WP"
   ]
  },
  {
   "cell_type": "markdown",
   "id": "1b039c63",
   "metadata": {},
   "source": [
    "## Objective\n",
    "\n",
    "Here, we first want to investigate the properties of the reference 1/4 WP."
   ]
  },
  {
   "cell_type": "markdown",
   "id": "adc4ff49",
   "metadata": {},
   "source": [
    "## Experimental method"
   ]
  },
  {
   "cell_type": "markdown",
   "id": "9fb2152d",
   "metadata": {},
   "source": [
    "### Experimental set-up\n",
    "\n",
    "Note that all the 1/4 WP used in the following sections are made for the laser we have, ie for $633 \\ \\mathrm{nm}$ light.\n",
    "\n",
    "To study the effect of the reference 1/4 WP on an incoming SOP, we put it between the 1/2 WP and the analyser. This will allow us to study the effect of a 1/4 WP on any SOP created using the 1/2 WP as described in the previous section. We align the REF 1/4 WP such that we get maximum transmission at 0&deg;. There were not many adjustments made as the fast axis was already (nearly) aligned."
   ]
  },
  {
   "cell_type": "markdown",
   "id": "fa86d10f",
   "metadata": {},
   "source": [
    "### Measurements\n",
    "\n",
    "Background is now 3 counts. It is less than earlier today because it is now dark outside.\n",
    "\n",
    "We first notice that, when we rotate the 1/4 WP, we get maximal output powers at 0, 90, 180, and 270&deg;. This reveals that the two axes of transmission are at 90&deg;. The one along the x-axis is the fast axis and the one along the y-axis is the slow axis. They are called this way because the light travels faster along the former than along the faster one. This is what leads to the phase shift between the x and y component of the electric field in the polarised beam (which is $\\pi$ in the case of a 1/2 WP) WHY???\n",
    "\n",
    "We first want to know the effect of a 1/4 WP aligned along its fast axis on a 0&deg; SOP. We do this by setting the 1/2 WP to 0&deg; and rotating the analyser.\n",
    "\n",
    "(These are not background subtracted.)\n",
    "\n",
    "**max transmission** at 0&deg; (855 counts), 180&deg; (853 counts)\n",
    "\n",
    "**min transmission** at 90&deg; (4 counts), 270&deg; (3 counts)\n",
    "\n",
    "We see here, that the 1/4 WP seemed to have had no effect on the SOP, as it is still horizontally polarised. Note that some of the light was still absorbed by the waveplate, as the maximum transmission power is diminished. WHY??? EFFECT OF FAST AXIS!!!\n",
    "\n",
    "We now want to know the effect of a 1/4 WP aligned along its slow axis on a 0&deg; SOP (ie the 1/4 WP is rotated by 90 degrees). We do this by setting the 1/2 WP to 0&deg; so that the SOP incident on the 1/4 WP is at 0&deg; to the slow axis, and rotating the analyser.\n",
    "\n",
    "(These are not background subtracted.)\n",
    "\n",
    "**max transmission** at 0&deg; (859 counts), 180&deg; (856 counts)\n",
    "\n",
    "**min transmission** at 90&deg; (3 counts), 270&deg; (3 counts)\n",
    "\n",
    "This means that whether the incident SOP is aligned with the slow or fast axis has no effect on it. WHY??? \n",
    "\n",
    "Now we can take the average of the powers, as we already did previously, and find"
   ]
  },
  {
   "cell_type": "code",
   "execution_count": 3,
   "id": "f1e4d858",
   "metadata": {},
   "outputs": [
    {
     "name": "stdout",
     "output_type": "stream",
     "text": [
      "the average power output in the first axis is 851 pm 1 counts\n",
      "the average power output in the second axis is 854 pm 1 counts\n"
     ]
    }
   ],
   "source": [
    "#calculating the power averages for each axes\n",
    "one_av  = np.average([855-3, 853-3]) #first axis, background subtracted\n",
    "two_av  = np.average([859-3, 856-3]) #second axis, background subtracted\n",
    "\n",
    "#calculating the standard error on the mean for these\n",
    "one_ave = stats.sem([855-3, 853-3])  #first axis\n",
    "two_ave = stats.sem([859-3, 856-3])  #second axis\n",
    "\n",
    "print('the average power output in the first axis is {0:.0f} pm {1:.0f} counts'.format(one_av, one_ave))\n",
    "print('the average power output in the second axis is {0:.0f} pm {1:.0f} counts'.format(two_av, two_ave))"
   ]
  },
  {
   "cell_type": "markdown",
   "id": "8bf4b087",
   "metadata": {},
   "source": [
    "We can see the ratio between the two will be very close to one, but not exactly, and their error bounds do not overlap. The two axes transmit a slightly different amount of light, but this is very small, though this could just be because of our error."
   ]
  },
  {
   "cell_type": "markdown",
   "id": "e6bf3eed",
   "metadata": {},
   "source": [
    "# Creation of 45&deg; SOP"
   ]
  },
  {
   "cell_type": "markdown",
   "id": "e646aece",
   "metadata": {},
   "source": [
    "## Objective\n",
    "\n",
    "Here, we want to investigate the effect of a 45° SOP on our 1/4 WP, and thus devise a way to make this angle very precise."
   ]
  },
  {
   "cell_type": "markdown",
   "id": "43f087b9",
   "metadata": {},
   "source": [
    "## Experimental method"
   ]
  },
  {
   "cell_type": "markdown",
   "id": "107a9c05",
   "metadata": {},
   "source": [
    "### Experimental set-up\n",
    "\n",
    "The apparatus is the same as in the previous subsection. Here, we want to create circularly polarised light. To do this, we need a 45&deg; linear SOP incident on the 1/4 WP. WHY??? Because the 1/2 WP shifts a SOP aligned with the x-axis by twice the angle of the 1/2 WP, we want it to be at 22.5&deg; The best way to achieve this is to set the angle to about 22&deg;, and then rotate the analyser, and adjust the 1/2 WP until we get the same power output for every angle of analyser (want the light to be circularly polarised, WHY and HOW???). The best I could do was power changing from 428 and 433, which would mean the elliptically polarised light had an eccentricity of 0.15. A circle has an eccentricity of 0.\n",
    "\n",
    "This method of adjusting an angle means that it is precise to less than 1 degree, which is far more precise than our previous methods, which were precise to the degree because of our reading error*. However, it is probably not suitable for setting every angle as it would mean setting the 1/2 and 1/4 WP such that the angle between the SOP leaving the 1/2 WP and the transmission axis of the 1/4 WP are at 45°, which may require more calculations, and so more time. (unsuitable for quick measurements)"
   ]
  },
  {
   "cell_type": "markdown",
   "id": "c04ab230",
   "metadata": {},
   "source": [
    "# Optional part (NOT DONE YET)"
   ]
  },
  {
   "cell_type": "markdown",
   "id": "567e79a6",
   "metadata": {},
   "source": [
    "## Aims"
   ]
  },
  {
   "cell_type": "markdown",
   "id": "2963d75b",
   "metadata": {},
   "source": [
    "## Experimental method"
   ]
  },
  {
   "cell_type": "markdown",
   "id": "c9bfd16f",
   "metadata": {},
   "source": [
    "### Set-up\n",
    "\n",
    "Add 1 quarter waveplate"
   ]
  },
  {
   "cell_type": "markdown",
   "id": "f49401bd",
   "metadata": {},
   "source": [
    "### Measurements\n",
    "\n",
    "- Fixed analyser, polariser, 1/2 WP at 0&deg;: sketch phase of output of both 1/4 WP for every combination of angles 0, 10, 20, 30 and 45&deg;\n",
    "- conclude"
   ]
  },
  {
   "cell_type": "markdown",
   "id": "fcccdcf4",
   "metadata": {},
   "source": [
    "## Results"
   ]
  },
  {
   "cell_type": "markdown",
   "id": "039eea3c",
   "metadata": {},
   "source": []
  },
  {
   "cell_type": "markdown",
   "id": "564d084a",
   "metadata": {},
   "source": []
  },
  {
   "cell_type": "code",
   "execution_count": null,
   "id": "fdea0363",
   "metadata": {},
   "outputs": [],
   "source": []
  },
  {
   "cell_type": "markdown",
   "id": "0e3e5840",
   "metadata": {},
   "source": [
    "# Investigation of 2 1/4 WP in series"
   ]
  },
  {
   "cell_type": "markdown",
   "id": "74a056ca",
   "metadata": {},
   "source": [
    "## Aims"
   ]
  },
  {
   "cell_type": "markdown",
   "id": "4a024faa",
   "metadata": {},
   "source": [
    "## Experimental method"
   ]
  },
  {
   "cell_type": "markdown",
   "id": "a1d4c6ed",
   "metadata": {},
   "source": [
    "### Experimental set-up\n",
    "\n",
    "We add a second 1/4 WP to our apparatus between the analyser and the REF 1/4 WP. They must be aligned along their fast axis at 0&deg;, which should already have been the case, not counting a few tweaks. However, the two quarter wave plates were somehow not aligned along the same axis when at 0&deg; (the slow axis of one was aligned with the fast axis of the other), contrary to what was in the lab script, which created great confusion with the demonstrator, and they had to be realigned. This may cause our results in section 5.2.3 in the lab script to be different than what the demonstrators expect. WHY???"
   ]
  },
  {
   "cell_type": "markdown",
   "id": "ce14c753",
   "metadata": {},
   "source": [
    "### Measurements\n",
    "\n",
    "Background is 3.\n",
    "\n",
    "We first want to see the effect of two 1/4 WP in series on an incident linear SOP with their fast axes aligned. To do this, we create SOPs at different angles using the 1/2 WP. We then get:\n",
    "\n",
    "**Table 1**: minimum and maximum power output for aligned 1/4 WP.\n",
    "\n",
    "1/2 WP angle (&deg;) | angle of the SOP incident on the first 1/4 WP (&deg;) | analyser angles for max transmission (&deg;) | max power in the same order (counts) | analyser angles for min transmission (&deg;) | min power in the same order (counts)\n",
    ":---:|:---:|:--------:|:--------:|:--------:|:-----:\n",
    "22.5 | 45  | 135, 315 | 818, 815 | 45,  225 | 3, 3\n",
    "30   | 60  | 120, 300 | 813, 814 | 30, 210  | 2, 3\n",
    "45   | 90  | 90,  270 | 802, 801 | 0, 180   | 3, 2\n",
    "60   | 120 | 60,  240 | 807, 801 | 150, 330 | 3, 3\n",
    "90   | 180 | 0, 180   | 809, 808 | 90,  270 | 3, 3\n",
    "0    | 0   | 0, 180   | 819, 812 | 90,  270 | 3, 3\n",
    "\n",
    "Note that these are not background subtracted, and that the 22.5&deg; angle was obtained using the same method as described above.\n",
    "\n",
    "We see here that the two 1/4 WPs in series have the effect of one 1/2 WP, ie the initial and final SOPs are mirror images of eachother: the initial SOP was flipped along the x-axis (as, in general, $-\\theta = 360-\\theta$) . This is because each 1/4 WP contributes to a phase shift of $\\pi/2$ on either $E_x$ or $E_y$, which makes a total phase shift of $/pi$, identical to a 1/2 WP.\n",
    "\n",
    "Now, we take the exact same measurements, but we shift one of the 1/4 WPs by 90&deg; so that the slow axis of one is aligned with the fast axis of the other.\n",
    "\n",
    "**Table 1**: minimum and maximum power output for 1/4 WPs at 90°.\n",
    "\n",
    "1/2 WP angle (&deg;) | angle of the SOP incident on the first 1/4 WP (&deg;) | analyser angles for max transmission (&deg;) | max power in the same order (counts) | analyser angles for min transmission (&deg;) | min power in the same order (counts)\n",
    ":---:|:---:|:--------:|:--------:|:--------:|:-----:\n",
    "22.5 | 45  | 45, 225  | 829, 831 | 135, 315 | 3, 3\n",
    "30   | 60  | 60, 240  | 828, 826 | 150, 330 | 3, 3\n",
    "45   | 90  | 90, 270  | 825, 823 | 0, 180   | 4, 4\n",
    "60   | 120 | 120, 300 | 820, 824 | 30, 210  | 3, 3\n",
    "90   | 180 | 0, 180   | 825, 826 | 90,  270 | 3, 3\n",
    "0    | 0   | 0, 180   | 840, 835 | 90,  270 | 3, 3\n",
    "\n",
    "Here, we see that when the slow axis of one 1/4 WP is aligned with the fast axis of the other, they cancel out, and so we the SOP of the beam remains the same. This is because one of the WPs shifts $E_x$ by $\\pi/2$ while the other shifts $E_y$ by the same amount, meaning there is no relative phase shift between the 2 components of electric field.\n",
    "\n",
    "NOTE seems to be an assymetry in the power maxima. perhaps 1/4 WP has different power outputs depending on its axis. WHY???\n",
    "=> Analysis difference in power outputs"
   ]
  },
  {
   "cell_type": "markdown",
   "id": "f7e5158d",
   "metadata": {},
   "source": [
    "## Discussion"
   ]
  },
  {
   "cell_type": "markdown",
   "id": "b888a4fd",
   "metadata": {},
   "source": [
    "1/4 WPs are made out of birefringent material, which means the refractive index changes depending on the orientation of the components of the incoming SOP. This means one component of the light will be travelling faster than the other, creating a phase shift between the two. 1/4 WPs are made such that the phase shift between the two waves is $\\pi/2$, ie there is a 1/4 wave difference between the two, which explains the name. The reason why light at 45° to a 1/4 WP becomes circularly polarised is because one of the components will now have the form of a sine wave, while the other will still be a cosine wave (as $\\cos(\\theta - \\pi/2) = \\sin(\\theta)$). This means the electric field of the beam will basically draw the unit circle if the amplitude(which comes back to its definition)"
   ]
  }
 ],
 "metadata": {
  "kernelspec": {
   "display_name": "Default",
   "language": "python",
   "name": "python3"
  },
  "language_info": {
   "codemirror_mode": {
    "name": "ipython",
    "version": 3
   },
   "file_extension": ".py",
   "mimetype": "text/x-python",
   "name": "python",
   "nbconvert_exporter": "python",
   "pygments_lexer": "ipython3",
   "version": "3.8.6"
  }
 },
 "nbformat": 4,
 "nbformat_minor": 5
}
