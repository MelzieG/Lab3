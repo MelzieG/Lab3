{
 "cells": [
  {
   "cell_type": "markdown",
   "id": "9765d4b7",
   "metadata": {},
   "source": [
    "# Objective\n",
    "\n",
    "Understand Malus' Law"
   ]
  },
  {
   "cell_type": "markdown",
   "id": "645030c6",
   "metadata": {},
   "source": [
    "# Experimental method"
   ]
  },
  {
   "cell_type": "markdown",
   "id": "9c8c3d2c",
   "metadata": {},
   "source": [
    "## Experimental set-up\n",
    "\n",
    "The original apparatus, without any of the polarising plates, is a laser aligned with a detector (I just checked that the 2 were indeed aligned by covering the detector with a sheet of paper to block the light from the laser, to check the beam was indeed arriving on the detector. I didn't do more because the demonstrator told me not to because of the age of the equipment).\n",
    "\n",
    "Here, we want to confirm Malus' law for a linearly polarised light incident on a linear polariser, which is equation (1) in the lab script\n",
    "\n",
    "$$P(\\theta) = P_0 \\cos^2(\\theta)$$\n",
    "\n",
    "where $P(\\theta)$ is the power transmitted at angle $\\theta$ between the transmission axis of the polariser and the orientation of the polarised light and $P_0$ is the power output when the two are aligned (ie maximum power output).\n",
    "\n",
    "This means that we will need two polarisers here:\n",
    "- the first to turn the laser beam into linearly polarised light, as the laser beam is not polarised in general.\n",
    "- the second serves as an analyser, ie helps us determine the state of polarisation (SOP) of the laser beam by using Malus' law.\n",
    "\n",
    "I first adjust the polariser so that it transmits the maximum amount of light from the laser beam, about 950 counts here. \n",
    "\n",
    "\n",
    "We then want to set up the analyser and polariser such that their transmission axes are aligned at 0&deg;, ie we get a maximum power output at 0&deg. To do that, I adjusted the scale so that we got minimum transmission when the polariser was at 0&deg and the analyser at 90&deg;. I did this because the detector fluctuates less at lower powers than at higher powers, so it's easier to know when we have a minimum. I don't find 0 counts for the minimum because of the background from ambient light (I find 5). The reading error on the detector is 1 count, but I don't know the error on the detector. The reading error on the angle is 1&deg;. Note that the polariser and analyser combination absorb and block light, even at maximum transmission, so the light becomes dimmer."
   ]
  },
  {
   "cell_type": "markdown",
   "id": "885ae7c8",
   "metadata": {},
   "source": [
    "## Measurements\n",
    "\n",
    "Background count was 5.\n",
    "\n",
    "Measurements in sheets, to copy.\n",
    "\n",
    "To check Malus' law, we need to measure the power output for a range of SOPs incident on the transmission axis of the analyser. The best way to do that is to keep the angle of the polariser fixed and rotate the analyser around 180&deg; (as we have a cosine term in the equation). I repeated the measurements 3 times to reduce error, especially that the power can fluctuate a lot at higher powers.\n",
    "\n",
    "We then get:\n",
    "\n",
    "analyser angle (&deg;) | output power 1 | output power 2 | output power 3\n",
    ":--:|:--:|:--:|:--:|\n",
    "0   | 959 | 958 | 960\n",
    "20  | 840 | 839 | 832\n",
    "40  | 551 | 555 | 551\n",
    "60  | 236 | 232 | 230\n",
    "80  | 29  | 28  | 30\n",
    "90  | 5   | 4   | 4\n",
    "100 | 38  | 39  | 39\n",
    "120 | 254 | 252 | 251\n",
    "140 | 573 | 571 | 570\n",
    "160 | 846 | 847 | 850\n",
    "180 | 955 | 955 | 955\n",
    "\n",
    "These were not background subtracted, but we clearly see that there is a minimum at 90&deg; here, as expected, and that is is at 0 ($\\pm$ the reading error) when we subtract the background, which is all as expected."
   ]
  },
  {
   "cell_type": "markdown",
   "id": "106fe8b0",
   "metadata": {},
   "source": [
    "# Data Analysis"
   ]
  },
  {
   "cell_type": "markdown",
   "id": "385abb6f",
   "metadata": {},
   "source": [
    "# Results"
   ]
  },
  {
   "cell_type": "markdown",
   "id": "a5d1bad6",
   "metadata": {},
   "source": [
    "# Discussion"
   ]
  },
  {
   "cell_type": "markdown",
   "id": "b17a7128",
   "metadata": {},
   "source": []
  },
  {
   "cell_type": "code",
   "execution_count": null,
   "id": "77f04a74",
   "metadata": {},
   "outputs": [],
   "source": []
  },
  {
   "cell_type": "code",
   "execution_count": null,
   "id": "fd673b05",
   "metadata": {},
   "outputs": [],
   "source": []
  },
  {
   "cell_type": "code",
   "execution_count": null,
   "id": "c31e149b",
   "metadata": {},
   "outputs": [],
   "source": []
  },
  {
   "cell_type": "code",
   "execution_count": null,
   "id": "852b5fff",
   "metadata": {},
   "outputs": [],
   "source": []
  },
  {
   "cell_type": "code",
   "execution_count": null,
   "id": "0794956c",
   "metadata": {},
   "outputs": [],
   "source": []
  }
 ],
 "metadata": {
  "kernelspec": {
   "display_name": "Default",
   "language": "python",
   "name": "python3"
  },
  "language_info": {
   "codemirror_mode": {
    "name": "ipython",
    "version": 3
   },
   "file_extension": ".py",
   "mimetype": "text/x-python",
   "name": "python",
   "nbconvert_exporter": "python",
   "pygments_lexer": "ipython3",
   "version": "3.8.6"
  }
 },
 "nbformat": 4,
 "nbformat_minor": 5
}
